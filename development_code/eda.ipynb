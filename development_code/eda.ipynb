{
 "cells": [
  {
   "cell_type": "code",
   "execution_count": 21,
   "metadata": {},
   "outputs": [],
   "source": [
    "import numpy as np\n",
    "import pandas as pd\n",
    "import matplotlib.pyplot as plt\n",
    "import seaborn as sns\n",
    "import glob, time, datetime"
   ]
  },
  {
   "cell_type": "code",
   "execution_count": 22,
   "metadata": {},
   "outputs": [],
   "source": [
    "files = glob.glob(\"../data/springfield/\"+\"*.csv\")\n",
    "shows = pd.concat([pd.read_csv(file, lineterminator='\\n') for file in files])"
   ]
  },
  {
   "cell_type": "code",
   "execution_count": 29,
   "metadata": {},
   "outputs": [
    {
     "data": {
      "text/plain": [
       "(14912, 3)"
      ]
     },
     "execution_count": 29,
     "metadata": {},
     "output_type": "execute_result"
    }
   ],
   "source": [
    "shows.shape"
   ]
  },
  {
   "cell_type": "code",
   "execution_count": 30,
   "metadata": {},
   "outputs": [
    {
     "data": {
      "text/html": [
       "<div>\n",
       "<style scoped>\n",
       "    .dataframe tbody tr th:only-of-type {\n",
       "        vertical-align: middle;\n",
       "    }\n",
       "\n",
       "    .dataframe tbody tr th {\n",
       "        vertical-align: top;\n",
       "    }\n",
       "\n",
       "    .dataframe thead th {\n",
       "        text-align: right;\n",
       "    }\n",
       "</style>\n",
       "<table border=\"1\" class=\"dataframe\">\n",
       "  <thead>\n",
       "    <tr style=\"text-align: right;\">\n",
       "      <th></th>\n",
       "      <th>text</th>\n",
       "      <th>episode_name</th>\n",
       "      <th>show_name</th>\n",
       "    </tr>\n",
       "  </thead>\n",
       "  <tbody>\n",
       "    <tr>\n",
       "      <th>0</th>\n",
       "      <td>Can it be the breeze that fills the trees\\r  W...</td>\n",
       "      <td>The Nicked Knockwurst</td>\n",
       "      <td>'Allo 'Allo! (1982) s03e01 Episode Script</td>\n",
       "    </tr>\n",
       "    <tr>\n",
       "      <th>1</th>\n",
       "      <td>Madame Peyet is in the family way.\\r  She is p...</td>\n",
       "      <td>Gruber Does Some Mincing</td>\n",
       "      <td>'Allo 'Allo! (1982) s03e02 Episode Script</td>\n",
       "    </tr>\n",
       "    <tr>\n",
       "      <th>2</th>\n",
       "      <td>Ooar!\\r  Ooh!\\r  Are you by any chance curious...</td>\n",
       "      <td>The Sausage in the Wardrobe</td>\n",
       "      <td>'Allo 'Allo! (1982) s03e03 Episode Script</td>\n",
       "    </tr>\n",
       "    <tr>\n",
       "      <th>3</th>\n",
       "      <td>It is possible that\\r the more curious among y...</td>\n",
       "      <td>The Flight of Fancy</td>\n",
       "      <td>'Allo 'Allo! (1982) s03e04 Episode Script</td>\n",
       "    </tr>\n",
       "    <tr>\n",
       "      <th>4</th>\n",
       "      <td>Oh. Do you by any chance wish to know\\r  how I...</td>\n",
       "      <td>Pretty Maids All in a Row</td>\n",
       "      <td>'Allo 'Allo! (1982) s03e05 Episode Script</td>\n",
       "    </tr>\n",
       "  </tbody>\n",
       "</table>\n",
       "</div>"
      ],
      "text/plain": [
       "                                                text  \\\n",
       "0  Can it be the breeze that fills the trees\\r  W...   \n",
       "1  Madame Peyet is in the family way.\\r  She is p...   \n",
       "2  Ooar!\\r  Ooh!\\r  Are you by any chance curious...   \n",
       "3  It is possible that\\r the more curious among y...   \n",
       "4  Oh. Do you by any chance wish to know\\r  how I...   \n",
       "\n",
       "                  episode_name                                  show_name  \n",
       "0        The Nicked Knockwurst  'Allo 'Allo! (1982) s03e01 Episode Script  \n",
       "1     Gruber Does Some Mincing  'Allo 'Allo! (1982) s03e02 Episode Script  \n",
       "2  The Sausage in the Wardrobe  'Allo 'Allo! (1982) s03e03 Episode Script  \n",
       "3          The Flight of Fancy  'Allo 'Allo! (1982) s03e04 Episode Script  \n",
       "4    Pretty Maids All in a Row  'Allo 'Allo! (1982) s03e05 Episode Script  "
      ]
     },
     "execution_count": 30,
     "metadata": {},
     "output_type": "execute_result"
    }
   ],
   "source": [
    "shows.head()"
   ]
  },
  {
   "cell_type": "code",
   "execution_count": 31,
   "metadata": {},
   "outputs": [
    {
     "data": {
      "text/html": [
       "<div>\n",
       "<style scoped>\n",
       "    .dataframe tbody tr th:only-of-type {\n",
       "        vertical-align: middle;\n",
       "    }\n",
       "\n",
       "    .dataframe tbody tr th {\n",
       "        vertical-align: top;\n",
       "    }\n",
       "\n",
       "    .dataframe thead th {\n",
       "        text-align: right;\n",
       "    }\n",
       "</style>\n",
       "<table border=\"1\" class=\"dataframe\">\n",
       "  <thead>\n",
       "    <tr style=\"text-align: right;\">\n",
       "      <th></th>\n",
       "      <th>text</th>\n",
       "      <th>episode_name</th>\n",
       "      <th>show_name</th>\n",
       "    </tr>\n",
       "  </thead>\n",
       "  <tbody>\n",
       "    <tr>\n",
       "      <th>539</th>\n",
       "      <td>1\\r  I don't want you to grieve forever.\\r  I ...</td>\n",
       "      <td>Episode 2</td>\n",
       "      <td>After Life (2019) s01e02 Episode Script</td>\n",
       "    </tr>\n",
       "    <tr>\n",
       "      <th>540</th>\n",
       "      <td>1\\r  [BIRDS TWITTERING.]\\r  When did you first...</td>\n",
       "      <td>Episode 3</td>\n",
       "      <td>After Life (2019) s01e03 Episode Script</td>\n",
       "    </tr>\n",
       "    <tr>\n",
       "      <th>541</th>\n",
       "      <td>1\\r  [FOOTSTEPS APPROACHING.]\\r  Oh! [WHISPERI...</td>\n",
       "      <td>Episode 4</td>\n",
       "      <td>After Life (2019) s01e04 Episode Script</td>\n",
       "    </tr>\n",
       "    <tr>\n",
       "      <th>542</th>\n",
       "      <td>1\\r  Keep being funny.\\r  Tell jokes at the fu...</td>\n",
       "      <td>Episode 5</td>\n",
       "      <td>After Life (2019) s01e05 Episode Script</td>\n",
       "    </tr>\n",
       "    <tr>\n",
       "      <th>543</th>\n",
       "      <td>1\\r  I've had the best life.\\r  And I couldn't...</td>\n",
       "      <td>Episode 6</td>\n",
       "      <td>After Life (2019) s01e06 Episode Script</td>\n",
       "    </tr>\n",
       "  </tbody>\n",
       "</table>\n",
       "</div>"
      ],
      "text/plain": [
       "                                                  text episode_name  \\\n",
       "539  1\\r  I don't want you to grieve forever.\\r  I ...    Episode 2   \n",
       "540  1\\r  [BIRDS TWITTERING.]\\r  When did you first...    Episode 3   \n",
       "541  1\\r  [FOOTSTEPS APPROACHING.]\\r  Oh! [WHISPERI...    Episode 4   \n",
       "542  1\\r  Keep being funny.\\r  Tell jokes at the fu...    Episode 5   \n",
       "543  1\\r  I've had the best life.\\r  And I couldn't...    Episode 6   \n",
       "\n",
       "                                   show_name  \n",
       "539  After Life (2019) s01e02 Episode Script  \n",
       "540  After Life (2019) s01e03 Episode Script  \n",
       "541  After Life (2019) s01e04 Episode Script  \n",
       "542  After Life (2019) s01e05 Episode Script  \n",
       "543  After Life (2019) s01e06 Episode Script  "
      ]
     },
     "execution_count": 31,
     "metadata": {},
     "output_type": "execute_result"
    }
   ],
   "source": [
    "shows.tail()"
   ]
  },
  {
   "cell_type": "code",
   "execution_count": 32,
   "metadata": {},
   "outputs": [
    {
     "data": {
      "text/plain": [
       "0      ['Allo 'Allo! , 1982) s03e01 Episode Script]\n",
       "1      ['Allo 'Allo! , 1982) s03e02 Episode Script]\n",
       "2      ['Allo 'Allo! , 1982) s03e03 Episode Script]\n",
       "3      ['Allo 'Allo! , 1982) s03e04 Episode Script]\n",
       "4      ['Allo 'Allo! , 1982) s03e05 Episode Script]\n",
       "                           ...                     \n",
       "539      [After Life , 2019) s01e02 Episode Script]\n",
       "540      [After Life , 2019) s01e03 Episode Script]\n",
       "541      [After Life , 2019) s01e04 Episode Script]\n",
       "542      [After Life , 2019) s01e05 Episode Script]\n",
       "543      [After Life , 2019) s01e06 Episode Script]\n",
       "Name: show_name, Length: 14912, dtype: object"
      ]
     },
     "execution_count": 32,
     "metadata": {},
     "output_type": "execute_result"
    }
   ],
   "source": [
    "shows[\"show_name\"].str.split(\"(\")"
   ]
  },
  {
   "cell_type": "code",
   "execution_count": null,
   "metadata": {},
   "outputs": [],
   "source": []
  }
 ],
 "metadata": {
  "kernelspec": {
   "display_name": "Python 3",
   "language": "python",
   "name": "python3"
  },
  "language_info": {
   "codemirror_mode": {
    "name": "ipython",
    "version": 3
   },
   "file_extension": ".py",
   "mimetype": "text/x-python",
   "name": "python",
   "nbconvert_exporter": "python",
   "pygments_lexer": "ipython3",
   "version": "3.7.3"
  }
 },
 "nbformat": 4,
 "nbformat_minor": 2
}
