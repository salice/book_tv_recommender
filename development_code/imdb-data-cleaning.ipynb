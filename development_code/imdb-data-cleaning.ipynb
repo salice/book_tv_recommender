{
 "cells": [
  {
   "cell_type": "code",
   "execution_count": 13,
   "metadata": {},
   "outputs": [],
   "source": [
    "import numpy as np\n",
    "import pandas as pd\n",
    "from pandas.io.json import json_normalize"
   ]
  },
  {
   "cell_type": "code",
   "execution_count": 2,
   "metadata": {},
   "outputs": [
    {
     "data": {
      "text/html": [
       "<div>\n",
       "<style scoped>\n",
       "    .dataframe tbody tr th:only-of-type {\n",
       "        vertical-align: middle;\n",
       "    }\n",
       "\n",
       "    .dataframe tbody tr th {\n",
       "        vertical-align: top;\n",
       "    }\n",
       "\n",
       "    .dataframe thead th {\n",
       "        text-align: right;\n",
       "    }\n",
       "</style>\n",
       "<table border=\"1\" class=\"dataframe\">\n",
       "  <thead>\n",
       "    <tr style=\"text-align: right;\">\n",
       "      <th></th>\n",
       "      <th>show_name</th>\n",
       "      <th>release_dates</th>\n",
       "      <th>episodes</th>\n",
       "      <th>reviews</th>\n",
       "      <th>keywords</th>\n",
       "    </tr>\n",
       "  </thead>\n",
       "  <tbody>\n",
       "    <tr>\n",
       "      <th>0</th>\n",
       "      <td>Plebs</td>\n",
       "      <td>['UK::2013', 'UK::25 March 2013']</td>\n",
       "      <td>{5: {1: &lt;Movie id:8912146[http] title:_\"Plebs ...</td>\n",
       "      <td>[{'content': \"If that joke in the summary make...</td>\n",
       "      <td>['sitcom', 'ancient-rome', 'slave', 'british-c...</td>\n",
       "    </tr>\n",
       "    <tr>\n",
       "      <th>1</th>\n",
       "      <td>The Murders</td>\n",
       "      <td>['Canada::25 March 2019', 'France::10 June 201...</td>\n",
       "      <td>{1: {1: &lt;Movie id:9029994[http] title:_\"The Mu...</td>\n",
       "      <td>[{'content': 'This is a great cop drama. While...</td>\n",
       "      <td>NaN</td>\n",
       "    </tr>\n",
       "    <tr>\n",
       "      <th>2</th>\n",
       "      <td>Mork and Mindy</td>\n",
       "      <td>['USA::26 March 1981']</td>\n",
       "      <td>NaN</td>\n",
       "      <td>[{'content': '\"Mork and Mindy Meet Rick and Ru...</td>\n",
       "      <td>NaN</td>\n",
       "    </tr>\n",
       "    <tr>\n",
       "      <th>3</th>\n",
       "      <td>Republic of Doyle</td>\n",
       "      <td>['Canada::6 January 2010', 'Canada::19 August ...</td>\n",
       "      <td>{6: {1: &lt;Movie id:3669544[http] title:_\"Republ...</td>\n",
       "      <td>[{'content': 'As a native Newfoundlander, my o...</td>\n",
       "      <td>[\"st.-john's-newfoundland-and-labrador\", 'spli...</td>\n",
       "    </tr>\n",
       "    <tr>\n",
       "      <th>4</th>\n",
       "      <td>The Playboy Club</td>\n",
       "      <td>['Canada::19 September 2011', 'USA::19 Septemb...</td>\n",
       "      <td>{1: {1: &lt;Movie id:2043706[http] title:_\"The Pl...</td>\n",
       "      <td>[{'content': \"When I started watching The Play...</td>\n",
       "      <td>['1960s', 'illinois', 'female-protagonist', 'd...</td>\n",
       "    </tr>\n",
       "  </tbody>\n",
       "</table>\n",
       "</div>"
      ],
      "text/plain": [
       "           show_name                                      release_dates  \\\n",
       "0              Plebs                  ['UK::2013', 'UK::25 March 2013']   \n",
       "1        The Murders  ['Canada::25 March 2019', 'France::10 June 201...   \n",
       "2     Mork and Mindy                             ['USA::26 March 1981']   \n",
       "3  Republic of Doyle  ['Canada::6 January 2010', 'Canada::19 August ...   \n",
       "4   The Playboy Club  ['Canada::19 September 2011', 'USA::19 Septemb...   \n",
       "\n",
       "                                            episodes  \\\n",
       "0  {5: {1: <Movie id:8912146[http] title:_\"Plebs ...   \n",
       "1  {1: {1: <Movie id:9029994[http] title:_\"The Mu...   \n",
       "2                                                NaN   \n",
       "3  {6: {1: <Movie id:3669544[http] title:_\"Republ...   \n",
       "4  {1: {1: <Movie id:2043706[http] title:_\"The Pl...   \n",
       "\n",
       "                                             reviews  \\\n",
       "0  [{'content': \"If that joke in the summary make...   \n",
       "1  [{'content': 'This is a great cop drama. While...   \n",
       "2  [{'content': '\"Mork and Mindy Meet Rick and Ru...   \n",
       "3  [{'content': 'As a native Newfoundlander, my o...   \n",
       "4  [{'content': \"When I started watching The Play...   \n",
       "\n",
       "                                            keywords  \n",
       "0  ['sitcom', 'ancient-rome', 'slave', 'british-c...  \n",
       "1                                                NaN  \n",
       "2                                                NaN  \n",
       "3  [\"st.-john's-newfoundland-and-labrador\", 'spli...  \n",
       "4  ['1960s', 'illinois', 'female-protagonist', 'd...  "
      ]
     },
     "execution_count": 2,
     "metadata": {},
     "output_type": "execute_result"
    }
   ],
   "source": [
    "imdb = pd.read_csv(\"../data/imdb_scrape.csv\")\n",
    "imdb.head()"
   ]
  },
  {
   "cell_type": "code",
   "execution_count": 3,
   "metadata": {},
   "outputs": [
    {
     "data": {
      "text/plain": [
       "(4667, 5)"
      ]
     },
     "execution_count": 3,
     "metadata": {},
     "output_type": "execute_result"
    }
   ],
   "source": [
    "imdb.shape"
   ]
  },
  {
   "cell_type": "markdown",
   "metadata": {},
   "source": [
    "#### Start with Release Dates it looks the easiest\n",
    "Goal is to extract US release year to augment Springfield dataset"
   ]
  },
  {
   "cell_type": "code",
   "execution_count": 18,
   "metadata": {},
   "outputs": [],
   "source": [
    "imdb = imdb.replace(r\"[^a-zA-Z0-9_]\", \"\")"
   ]
  },
  {
   "cell_type": "code",
   "execution_count": 19,
   "metadata": {},
   "outputs": [
    {
     "data": {
      "text/plain": [
       "0                       ['UK::2013', 'UK::25 March 2013']\n",
       "1       ['Canada::25 March 2019', 'France::10 June 201...\n",
       "2                                  ['USA::26 March 1981']\n",
       "3       ['Canada::6 January 2010', 'Canada::19 August ...\n",
       "4       ['Canada::19 September 2011', 'USA::19 Septemb...\n",
       "                              ...                        \n",
       "4662    ['USA::15 October 2007', 'Mexico::5 November 2...\n",
       "4663                               ['USA::7 August 2011']\n",
       "4664    ['Belgium::24 January 2018', 'Netherlands::1 F...\n",
       "4665    ['Canada::23 November 2017                    ...\n",
       "4666    ['USA::19 January 2012', 'Sweden::13 October 2...\n",
       "Name: release_dates, Length: 4667, dtype: object"
      ]
     },
     "execution_count": 19,
     "metadata": {},
     "output_type": "execute_result"
    }
   ],
   "source": [
    "imdb[\"release_dates\"]"
   ]
  },
  {
   "cell_type": "code",
   "execution_count": 21,
   "metadata": {},
   "outputs": [
    {
     "data": {
      "text/plain": [
       "4662    {2: {1: <Movie id:1134756[http] title:_\"Samant...\n",
       "4663    {-1: {-1: <Movie id:4328266[http] title:_\"Curi...\n",
       "4664                                                  NaN\n",
       "4665    {1: {1: <Movie id:6534370[http] title:_\"The In...\n",
       "4666    {1: {1: <Movie id:2142657[http] title:_\"Unsupe...\n",
       "Name: episodes, dtype: object"
      ]
     },
     "execution_count": 21,
     "metadata": {},
     "output_type": "execute_result"
    }
   ],
   "source": [
    "for row in imdb[\"episodes\"]:\n",
    "    if re.search(\"^<_$\"):\n",
    "        "
   ]
  },
  {
   "cell_type": "code",
   "execution_count": 24,
   "metadata": {},
   "outputs": [
    {
     "data": {
      "text/plain": [
       "'{5: {1: <Movie id:8912146[http] title:_\"Plebs (TV Series 2013– ) - IMDb\" The Vineyard (2019)_>, 2: <Movie id:10979510[http] title:_\"Plebs (TV Series 2013– ) - IMDb\" The Paedos (2019)_>, 3: <Movie id:10979512[http] title:_\"Plebs (TV Series 2013– ) - IMDb\" The Banquet (2019)_>, 4: <Movie id:10979514[http] title:_\"Plebs (TV Series 2013– ) - IMDb\" The Grumbrella (2019)_>, 5: <Movie id:10979518[http] title:_\"Plebs (TV Series 2013– ) - IMDb\" The Hooligans (2019)_>, 6: <Movie id:10979520[http] title:_\"Plebs (TV Series 2013– ) - IMDb\" The Dig (2019)_>, 7: <Movie id:10979522[http] title:_\"Plebs (TV Series 2013– ) - IMDb\" The New Flat (2019)_>, 8: <Movie id:10979526[http] title:_\"Plebs (TV Series 2013– ) - IMDb\" The Wedding (2019)_>}, 1: {1: <Movie id:2772616[http] title:_\"Plebs (TV Series 2013– ) - IMDb\" The Orgy (2013)_>, 2: <Movie id:2772752[http] title:_\"Plebs (TV Series 2013– ) - IMDb\" The Gladiator (2013)_>, 3: <Movie id:2772748[http] title:_\"Plebs (TV Series 2013– ) - IMDb\" The Erotic Vase (2013)_>, 4: <Movie id:2756918[http] title:_\"Plebs (TV Series 2013– ) - IMDb\" The Herpes Cat (2013)_>, 5: <Movie id:2756914[http] title:_\"Plebs (TV Series 2013– ) - IMDb\" Bananae (2013)_>, 6: <Movie id:2756916[http] title:_\"Plebs (TV Series 2013– ) - IMDb\" Saturnalia (2013)_>}, 2: {1: <Movie id:3594324[http] title:_\"Plebs (TV Series 2013– ) - IMDb\" The Chariot (2014)_>, 2: <Movie id:3594326[http] title:_\"Plebs (TV Series 2013– ) - IMDb\" The Best Men (2014)_>, 3: <Movie id:3594328[http] title:_\"Plebs (TV Series 2013– ) - IMDb\" The Baby (2014)_>, 4: <Movie id:3594330[http] title:_\"Plebs (TV Series 2013– ) - IMDb\" The Patron (2014)_>, 5: <Movie id:3594332[http] title:_\"Plebs (TV Series 2013– ) - IMDb\" The New Slave (2014)_>, 6: <Movie id:3594334[http] title:_\"Plebs (TV Series 2013– ) - IMDb\" The Candidate (2014)_>, 7: <Movie id:3594336[http] title:_\"Plebs (TV Series 2013– ) - IMDb\" The Phallus (2014)_>, 8: <Movie id:3594338[http] title:_\"Plebs (TV Series 2013– ) - IMDb\" The Race (2014)_>}, 3: {1: <Movie id:5534866[http] title:_\"Plebs (TV Series 2013– ) - IMDb\" The Beasts (2016)_>, 2: <Movie id:5535188[http] title:_\"Plebs (TV Series 2013– ) - IMDb\" Justin Junior (2016)_>, 3: <Movie id:5535216[http] title:_\"Plebs (TV Series 2013– ) - IMDb\" The Vestal (2016)_>, 4: <Movie id:5647366[http] title:_\"Plebs (TV Series 2013– ) - IMDb\" The Cupid (2016)_>, 5: <Movie id:5665508[http] title:_\"Plebs (TV Series 2013– ) - IMDb\" The Crimewave (2016)_>, 6: <Movie id:5687028[http] title:_\"Plebs (TV Series 2013– ) - IMDb\" Jugball (2016)_>, 7: <Movie id:5689744[http] title:_\"Plebs (TV Series 2013– ) - IMDb\" The New Master (2016)_>, 8: <Movie id:5715130[http] title:_\"Plebs (TV Series 2013– ) - IMDb\" The Weatherist (2016)_>}, 4: {1: <Movie id:7372732[http] title:_\"Plebs (TV Series 2013– ) - IMDb\" The Accident (2018)_>, 2: <Movie id:8238058[http] title:_\"Plebs (TV Series 2013– ) - IMDb\" The Critic (2018)_>, 3: <Movie id:8292014[http] title:_\"Plebs (TV Series 2013– ) - IMDb\" The Marathon (2018)_>, 4: <Movie id:8292044[http] title:_\"Plebs (TV Series 2013– ) - IMDb\" The Satirist (2018)_>, 5: <Movie id:8340258[http] title:_\"Plebs (TV Series 2013– ) - IMDb\" Lupercalia (2018)_>, 6: <Movie id:8360730[http] title:_\"Plebs (TV Series 2013– ) - IMDb\" The Bathhouse (2018)_>, 7: <Movie id:7452256[http] title:_\"Plebs (TV Series 2013– ) - IMDb\" The Accountant (2018)_>, 8: <Movie id:8414402[http] title:_\"Plebs (TV Series 2013– ) - IMDb\" Beer (2018)_>}}'"
      ]
     },
     "execution_count": 24,
     "metadata": {},
     "output_type": "execute_result"
    }
   ],
   "source": [
    "imdb[\"episodes\"][0]"
   ]
  },
  {
   "cell_type": "code",
   "execution_count": 26,
   "metadata": {},
   "outputs": [
    {
     "data": {
      "text/plain": [
       "'[{\\'content\\': \"If that joke in the summary makes you chuckle then you\\'re going to love Plebs.I guess I might be in a rare camp being both a fan of the Inbetweeners and of Roman history but when I spied this I knew I had to watch it. Not only does it capture the day to day life of Roman lower classes brilliantly (aside from the deliberately dodgy accents). but it\\'s funny and entertaining in it\\'s own right.The main trio are all really good and we see them going about their daily lives whilst doing their best to get laid and climb the social ladder and failing miserably at both.But as much as Will McKenzie steals the show in the Inbetweeners it\\'s Grumio, who steals the show here. Almost every time he\\'s on screen it\\'s stupidly funny. He doesn\\'t even have to open his mouth, he just has one of those faces and his stupid bowl head. But that accent of his is awesome.It\\'s only had one season so far, so it\\'s still early days. It\\'s landed a bit under the mainstream radar so I fear a second season might not land. But hopefully if it does a fan base will develop and we could be in a for an awesome comedy series.\", \\'helpful\\': 0, \\'title\\': \\'\\', \\'author\\': \\'ur13666822\\', \\'date\\': \\'8 June 2013\\', \\'rating\\': None, \\'not_helpful\\': 0}, {\\'content\\': \"Loving this - it\\'s pretty much The Inbetweeners do Ancient Rome. Class.The story focuses around 3 guys living in a pretty dull area of Rome (- not Gladiators, nor Senators, just blokes - hence the title) Tom Rosenthal plays the very straight Marcus, who has the most resentful slave ever in the fabulous Grunio (Ryan Sampson, rocking a hairdo like Howard from Big Bang, and pretty much channelling Baldrick with a grumpy attitude) They live with the over-sexed Stylax (Joel Fry), next door to the gorgeous but dim Cynthia (Sophie Colquhoun) and her scary and whip smart slave, Metella (Lydia Rose Bewley) - both from Briton.A must see for Inbetweeners fans, do not miss the 2nd episode with Danny Dyer being a very macho but sensitive Gladiator. Brilliant.\", \\'helpful\\': 0, \\'title\\': \\'\\', \\'author\\': \\'ur42545864\\', \\'date\\': \\'9 April 2013\\', \\'rating\\': 1, \\'not_helpful\\': 0}, {\\'content\\': \"Plebs is an easy going, obvious, rude comedy.Set in Ancient Rome, many have likened it to the Inbetweeners and it\\'s easy to see why. If you like Inbetweeners, it\\'s no bad thing, obviously. Plebs is a total giggle-fest if you like this type of humour.Ryan Sampson plays Grumio, the slave. Quite simply he is the scene and show stealer - great lines, dead-pan face, an innocent arrogance but clearly quite sneakily clever. Baldrick like, yes, but somehow different.Doon Mackichan is a star, perfectly cast as the perverted, prissy but oh!, so dirty, narcissistic Boss - she rocks this part.Truthfully, the two other main characters could be played by anybody, they just seem to read their lines. Posh, gangly, excessive face pulling... pretty much journeymen.You\\'ll encounter dead hands to masturbate with, herpes riddled cats, porn jugs, sex cages, orgies, swearing, saucy fruit...Yes, it is childish - immature - infantile - puerile! But that is what it is supposed to be. And it is darned funny to boot.\", \\'helpful\\': 0, \\'title\\': \\'\\', \\'author\\': \\'ur42955546\\', \\'date\\': \\'25 April 2013\\', \\'rating\\': 1, \\'not_helpful\\': 0}, {\\'content\\': \\'When it\\\\\\'s about comedies with silly humor the British ones work the best for me. I really enjoyed every episode of Plebs. The simplistic lifestyle that is been shown might be repetitive but that\\\\\\'s what makes it even better. The stupid and not useful jobs they have, their \"slave\" that does absolutely nothing, their constant failure to climb up the social ladder, the crush he has on his neighbor and the failures to get laid, it all makes it a very easy and fun series to watch. Tom Rosenthal, Joel Fry and Ryan Sampson all did an excellent job with their characters as well as the other actors in this series. The ska music in this show, although you would think that doesn\\\\\\'t work in ancient Rome, is excellent. I caught myself skankin\\\\\\' more then once. The only sad thing about British shows is that they are usually quickly over even if they are really good. To me this one could go on for many more seasons.\\', \\'helpful\\': 0, \\'title\\': \\'\\', \\'author\\': \\'ur58525162\\', \\'date\\': \\'1 March 2015\\', \\'rating\\': None, \\'not_helpful\\': 0}, {\\'content\\': \\'There are some scenes I laughed so hard I cried, like the breast milk dousing scene. Seriously, I love these guys and the clever comedic exaggerated view of what life might have looked like for single roman guys of the day. It\\\\\\'s a hilarious and imaginative idea of life in Roman times. Each episode is fun and always guarantee\\\\\\'s a good laugh. Groomio, Marcus and Stylex are silly goof balls you can\\\\\\'t help but love. All the details including the names of characters based on their job, such as \"water boy\" and \"landlord\" always evokes a good chuckle. I can\\\\\\'t imagine why people want to continue to watch reality TV such as the kardashians, or the jersey shore when they can watch this show.\\', \\'helpful\\': 0, \\'title\\': \\'\\', \\'author\\': \\'ur8497880\\', \\'date\\': \\'20 March 2015\\', \\'rating\\': 1, \\'not_helpful\\': 0}, {\\'content\\': \"I love history, and puerile stupid humour, so this is right up my street. I loved the Inbetweeners, and this is almost as good. I find that good historical comedies are really difficult to find. At times they can be a real disappointment, but I instantly liked this. Some are saying that season 2 sucks, but I don\\'t agree. I still love it, even if it\\'s had some near-the-knuckle moments. For me, Stylax is easily the best character. I wasn\\'t sure about Groomio initially, but he\\'s growing on me. I\\'m hoping this will last for another couple of seasons, as I like the way the characters are developing, and there has got to be a good few situations to explore. I hope it raises its profile a bit more, and becomes more popular, so we get some more seasons.\", \\'helpful\\': 0, \\'title\\': \\'\\', \\'author\\': \\'ur20034941\\', \\'date\\': \\'15 October 2014\\', \\'rating\\': None, \\'not_helpful\\': 0}, {\\'content\\': \"I loved this show, so much so that its now my most recommended show to my friends. Everyone is weary when i first tell them the premise and when they first see it. By the 2nd episode they also become a fellow plebeian. Give the show a try at least 2 episodes! You will most likely not regret it. Marcus can get a little annoying at times but Stylax more than makes up for it, being both a sexual deviant and a terrible influence. The pinnacle of the show is Grumio (Ryan Samson), he is hilarious and downright brilliant. The set up of the show is similar in each episode but the story is complex and witty. The landlord\\'s banter with Grumio is also amazing.\", \\'helpful\\': 0, \\'title\\': \\'\\', \\'author\\': \\'ur18929376\\', \\'date\\': \\'7 April 2016\\', \\'rating\\': None, \\'not_helpful\\': 0}, {\\'content\\': \"The show may not be for everyone, but if your smart and like to laugh this is the show for you. It has everything that makes TV funny. If you don\\'t get it you won\\'t like it, but that\\'s your bad! This show was as instant classic from the moment I saw it.The dynamic between the actors is second to none. Give this one a chance, the day to day life of these guys is a must see with endless story lines. The writers are smart and funny with out being rude or vulgar. I don\\'t know if girls will like it but they should. It\\'s funny watch it with friend or alone you are going to laugh or your money back! This could be my favorite sit-com of all time! 10 stars!\", \\'helpful\\': 0, \\'title\\': \\'\\', \\'author\\': \\'ur34218782\\', \\'date\\': \\'17 August 2014\\', \\'rating\\': 1, \\'not_helpful\\': 0}, {\\'content\\': \"Why are people slating series 2???? This, I believe is about the funniest sitcom I\\'ve ever seen....and I\\'ve seen them all... I love Only fools n horses, Father Ted, Inbetweeners, Blackadder, Porridge, Red dwarf, good life etc, etc, etc But Plebs...well its class.....so clever,well acted, well written.. The characters are amazing, perfect, nothing needs to be changed...Water boy (I mean water man) and all the other bit part characters are perfect too................Please, please make series after series... please please Gaz Why are people slating series 2???? This, I believe is about the funniest sitcom I\\'ve ever seen....and I\\'ve seen them all... I love Only fools n horses, Father Ted, Inbetweeners, Blackadder, Porridge, Red dwarf, good life etc, etc, etc But Plebs...well its class.....so clever,well acted, well written.. The characters are amazing, perfect, nothing needs to be changed...Water boy (I mean water man) and all the other bit part characters are perfect too................Please, please make series after series... please please Gaz\", \\'helpful\\': 0, \\'title\\': \\'\\', \\'author\\': \\'ur55905285\\', \\'date\\': \\'18 October 2014\\', \\'rating\\': 1, \\'not_helpful\\': 0}, {\\'content\\': \\'This show is fantastic! But one of the guys left to be a nobody in game of thrones and now we are stuck with a completely lame playboy character WHO BECAME THE MAIN CHARACTER IN SEASON 5!!!!!!!!!!!!!!!!!!This top 10 of all time show turned into pure trash after the end of season 3, when they inserted a new stupid character instead of making the \"water guy\" a regular. It went for 10 to 0 in a matter of seconds.\\', \\'helpful\\': 0, \\'title\\': \\'\\', \\'author\\': \\'ur80845115\\', \\'date\\': \\'1 October 2019\\', \\'rating\\': None, \\'not_helpful\\': 0}, {\\'content\\': \\'Best British comedy on tv at the moment. But we miss Stylax!\\', \\'helpful\\': 0, \\'title\\': \\'\\', \\'author\\': \\'ur88390144\\', \\'date\\': \\'9 June 2018\\', \\'rating\\': 1, \\'not_helpful\\': 0}, {\\'content\\': \\'amazing show so funny watched every episode more then 15 time some more and many episodes i watched the same one 6x or more still funny. a must see great characters and adventures. \"have at him Cacious\"- Stylax. all characters are great super funny keeps me coming back for more.its in the same level of funny as Monty pythons holy grail, different but its really brilliant its totally different from Monty pythons but its its own kind of funny. its a 420 must and if you have no 420 its still great maybe better. if you like workaholics its a buddy show also but its a whole different kind of funny laughs workaholics is great this season, Plebs is only like workaholics in that its bros rooming and working together but after that its its own and glorious laughter inducing 25minutes. the 3 main lads will have you gasping for air because of how much laughter you will get from their talks and problem solving skills.\\', \\'helpful\\': 0, \\'title\\': \\'\\', \\'author\\': \\'ur59225771\\', \\'date\\': \\'14 March 2015\\', \\'rating\\': 1, \\'not_helpful\\': 0}, {\\'content\\': \\'Hilarious comedy set in ancient Rome. About three young men who are all equally funny, but the funniest is Stylax. Marcus is the straight guy with a slave with attitude (Grumio). Sadly, Stylax is not in series 4, which is not as funny mainly because the replacement, Jason, seems to be successful with women and this leaves out a lot of scope for comedy. Also, Grumio seems to have changed his character.\\', \\'helpful\\': 0, \\'title\\': \\'\\', \\'author\\': \\'ur88108781\\', \\'date\\': \\'8 May 2018\\', \\'rating\\': 1, \\'not_helpful\\': 0}, {\\'content\\': \"Plebs has many virtues. It\\'s very hilarious, the cast is unbeatable and the plot shocked my head. I couldn\\'t believe what I was seeing in my TV . The three leading roles are extremely amazing and unbeatable (sorry for using again that word) I don\\'t have any better words to describe this show. UNBEATABLE. Special mentions for the three leading roles. Ryan Sampson makes the best clowny mate I\\'ve ever seen in years. Grumio is the favourite for so many fans of the show. Tom Rosenthal, Marcus shows a brilliant performance which reminds me the late but always beloved Peter Sellers. Stylax complains perfectly the team doing a nice part of it. I really didn\\'t expect for any gorgeous series, maybe I\\'m gloomy about television and movies, but sometimes we find creative and magnific TV shows going easily to be a cult series.\", \\'helpful\\': 0, \\'title\\': \\'\\', \\'author\\': \\'ur68402319\\', \\'date\\': \\'2 September 2016\\', \\'rating\\': 1, \\'not_helpful\\': 0}, {\\'content\\': \"Salve everyone. This quality of sitcom doesn\\'t come along very often. Tom Basden and Sam Leifer have created a classic. I hope and pray that series 2 is as good as the first. I have watched the six episodes over and over and introduced it to every house guest that has passed through our front door.Why is it so good? It follows the traditional structure of a great many British sitcoms from the past; repeated situations that vary only slightly from week to week but are always funny; classic characters that you instantly feel you know personally. It creates realistic situations that make ancient Rome relevant and funny. And it only uses bad language to punctuate and add humour rather than to pep-up an otherwise lacklustre script.Marcus, Stylax and Grumio are the Three Stooges of ancient Rome... though one is obviously from somewhere near Manchester. They\\'re at times stupid, manipulative, gross, lazy, utterly seethru, charming, laddish and totally plebeian. But they\\'re all lovable and completely real. Each is a completely necessary foil for the others and all are superbly played by a wonderful and very talented cast. No plot spoilers, just go and buy it! Every performance in it is wonderful, from the slick landlord to the Essex-girl-next-door with her sharp-as-a-tack slave. From the man-eater boss to the corporate memo writer. Then of course there is the fabulous Waterboy (sorry, Waterman) played by one of the show\\'s writers, Tom Basden (have a look at his own YouTube videos).A word about the show\\'s music too... Baba Brooks? Toots and the Maytals? In ancient Rome? I don\\'t know why but it\\'s just perfect!You\\'ve probably guessed by now that I LOVE IT.SECOND SERIES - sad updateWhat a disappointment! We\\'ve gone from the most promising TV comedy in years to lowest common denominator garbage in one fell swoop. So far I have seen the first two episodes of series two. In the first we\\'re given the spectacle of Marcus performing oral sex on a prostitute and in the second the lads vistit a site to experience oral sex from old men through a hole in wooden fence. Hilarious... not. When you have to stoop to this for laughs you\\'ve run out of ideas. If we want porn there are a billion websites waiting to take our money. It\\'s not necessary to include it in a TV show to get cheap laughs. I am no prude. The language is fine, the inuendo is fine. There just isn\\'t the need for this extra gyno comedy. The Marcus from series one just hasn\\'t got it in him to perform cunnilingus with an older woman on his first date... let alone on a kitchen table. Marcus would not carry Grumio on his shoulders during a chariot race. It would be the other way round. The character of Davus is completely unnecessary. I can go on and on... The show has had more money chucked at it, CGI, fancy camera angles and a drugged up, sexed up script. It\\'s as bad as series 3 of the Mighty Boosh. Dudes... Fawlty Towers and Father Ted didn\\'t stray into these murky waters. They\\'re classics. They\\'re clever. This is junk. Shame on you. What a waste.\", \\'helpful\\': 0, \\'title\\': \\'\\', \\'author\\': \\'ur49905063\\', \\'date\\': \\'16 January 2014\\', \\'rating\\': None, \\'not_helpful\\': 0}, {\\'content\\': \"This is fun and timeless even if this happen to be taking place shortly before the time of Jesus. It certainly benefits from the epoch and the public\\'s perceptions and misconceptions about ancient Rome. It\\'s about young singles in a city. It could have been played out in today\\'s London but obviously the ancient setting contributes to an extra twist as the backdrop to the show\\'s hilarious episodes. Slaves, gladiators and corporate orgies are difficult to joke about in a contemporary environment. I think this production has managed to use the collision between todays ethics and historical peculiarities really good. Personally I think the first three episodes felt a little shaky and immature . Six episodes (shown this far) are to few for a fair rating when it comes to this kind of show. It feels like the series is only in its infancy. The series has potential. It feels like it can develop allot more. Give the character an honest chance so perhaps Plebs could become a real classic in the British humor flora. Each episode is a sweet waste of 30 minutes. I think the laughs it brings prolongs life with hours or maybe even days so... not really wasted are they, them minutes? I want more!\", \\'helpful\\': 0, \\'title\\': \\'\\', \\'author\\': \\'ur22937780\\', \\'date\\': \\'7 November 2013\\', \\'rating\\': None, \\'not_helpful\\': 0}, {\\'content\\': \"I loved the first three series- but I REALLY love the 4th series. Yes, I miss Stylax- but Jace is ace! Love how the water-boy (sorry- water man) has been more included. He should be. The writing has improved- and they should make Grumio emperor. I can\\'t believe this series is almost done already. You have made a grey haired old lady very happy- Salve lads!\", \\'helpful\\': 0, \\'title\\': \\'\\', \\'author\\': \\'ur4586894\\', \\'date\\': \\'14 May 2018\\', \\'rating\\': 1, \\'not_helpful\\': 0}, {\\'content\\': \"English humour at its best Give it a go , give it chance it won\\'t let you down once you know the charactersCouldn\\'t recommend more\", \\'helpful\\': 0, \\'title\\': \\'\\', \\'author\\': \\'ur91660244\\', \\'date\\': \\'26 August 2018\\', \\'rating\\': 1, \\'not_helpful\\': 0}, {\\'content\\': \\'As above. This truely is the most unfunny sitcome since last of the summer wine\\', \\'helpful\\': 0, \\'title\\': \\'\\', \\'author\\': \\'ur27364089\\', \\'date\\': \\'21 October 2019\\', \\'rating\\': None, \\'not_helpful\\': 0}, {\\'content\\': \"As a 55 year old who has watched comedy over the decades, from the bad to the \\'Classics\\', I certainly hope that Plebs will fall into the Classic category.Refreshingly entertaining, great characters, each funny in their own right, moments of side splitting hilarity. It took me a few episodes to warm to , but once in, hilarious. Best comedy on the TV at the moment, and a show you can go back to and still enjoy.Always the sign of a good comedy I think.Other reviewers have gone into more detail than myself, carn\\'t be arsed ! Salve Grumio ? Aaaaright landlord !!\", \\'helpful\\': 0, \\'title\\': \\'\\', \\'author\\': \\'ur67602391\\', \\'date\\': \\'14 June 2016\\', \\'rating\\': 1, \\'not_helpful\\': 0}, {\\'content\\': \\'I met Plebs in its first season, so, I´m a fan since the beginning. I love the plots, the good performances and everything around it feels so perfect. Cant imagine another Grummio or another Markus playing the role. ¨It´s not like other series made in ancient times because it has the originality to be unique. The cast is DIVINE . Really excellent. Tom Rosenthal is the new Peter Sellers (Thanks GOD for give us this guy) . Sampson can´t be better. Joel plays the kind brother, yes, I´m true, the kind brother everybody would like to have by side.I love Plebs, my favourite show ever. Hope there will be more seasons up for us\\', \\'helpful\\': 0, \\'title\\': \\'\\', \\'author\\': \\'ur84063824\\', \\'date\\': \\'5 January 2018\\', \\'rating\\': 1, \\'not_helpful\\': 0}, {\\'content\\': \\'Less than 1 minute in I was thinking Big Bomb, Thoroughly, Going to Roam. Why do so many people think if it has a British cast it is somehow comedy genius? In my opinion this series has floated four years solely on the lift provided by sheer flatus. P.U. Switching to BBC2.\\', \\'helpful\\': 0, \\'title\\': \\'\\', \\'author\\': \\'ur25160912\\', \\'date\\': \\'10 April 2018\\', \\'rating\\': None, \\'not_helpful\\': 0}, {\\'content\\': \"I\\'ve come across this a few times on TV and think it\\'s about as funny as stubbing your toe. What am I missing? Does it just not appeal to my sense of humour? I fail to see how it even got past the first episode.\", \\'helpful\\': 0, \\'title\\': \\'\\', \\'author\\': \\'ur91733998\\', \\'date\\': \\'27 August 2018\\', \\'rating\\': None, \\'not_helpful\\': 0}, {\\'content\\': \"While first season was OK, first two episodes of the second season were as bad as one can imagine.Don\\'t change the narrator. Don\\'t change the tone. It was fun with all the postmodern jokes first season; now it\\'s just plain dumb. Shut it down for the sake of the effort two years ago.I\\'d rarely enjoy one season wonder. This was no wonder, but one can enjoy the humour of the first year. Afterwards it\\'s just broke in all possible places.There\\'re some comedy shows running for years. Heck, one can treat Doctor Who as one;plebs has just gone out.\", \\'helpful\\': 0, \\'title\\': \\'\\', \\'author\\': \\'ur4410312\\', \\'date\\': \\'22 September 2014\\', \\'rating\\': None, \\'not_helpful\\': 0}, {\\'content\\': \"Great show always Manages to make you laugh 10/10 can\\'t wait for season 5\", \\'helpful\\': 0, \\'title\\': \\'\\', \\'author\\': \\'ur96974521\\', \\'date\\': \\'19 October 2019\\', \\'rating\\': None, \\'not_helpful\\': 0}]'"
      ]
     },
     "execution_count": 26,
     "metadata": {},
     "output_type": "execute_result"
    }
   ],
   "source": [
    "imdb[\"reviews\"][0]"
   ]
  },
  {
   "cell_type": "code",
   "execution_count": null,
   "metadata": {},
   "outputs": [],
   "source": []
  }
 ],
 "metadata": {
  "kernelspec": {
   "display_name": "Python 3",
   "language": "python",
   "name": "python3"
  },
  "language_info": {
   "codemirror_mode": {
    "name": "ipython",
    "version": 3
   },
   "file_extension": ".py",
   "mimetype": "text/x-python",
   "name": "python",
   "nbconvert_exporter": "python",
   "pygments_lexer": "ipython3",
   "version": "3.7.3"
  }
 },
 "nbformat": 4,
 "nbformat_minor": 2
}
