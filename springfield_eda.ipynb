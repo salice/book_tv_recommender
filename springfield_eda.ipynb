{
 "cells": [
  {
   "cell_type": "code",
   "execution_count": 45,
   "metadata": {},
   "outputs": [],
   "source": [
    "import numpy as np\n",
    "import pandas as pd\n",
    "import matplotlib.pyplot as plt\n",
    "import seaborn as sns\n",
    "import glob, time, datetime, re"
   ]
  },
  {
   "cell_type": "code",
   "execution_count": 2,
   "metadata": {},
   "outputs": [],
   "source": [
    "files = glob.glob(\"../data/springfield_springfield_all/\"+\"*.csv\")\n",
    "shows = pd.concat([pd.read_csv(file, lineterminator='\\n') for file in files])"
   ]
  },
  {
   "cell_type": "code",
   "execution_count": 3,
   "metadata": {},
   "outputs": [
    {
     "data": {
      "text/plain": [
       "(117375, 3)"
      ]
     },
     "execution_count": 3,
     "metadata": {},
     "output_type": "execute_result"
    }
   ],
   "source": [
    "shows.shape"
   ]
  },
  {
   "cell_type": "code",
   "execution_count": 4,
   "metadata": {},
   "outputs": [
    {
     "data": {
      "text/html": [
       "<div>\n",
       "<style scoped>\n",
       "    .dataframe tbody tr th:only-of-type {\n",
       "        vertical-align: middle;\n",
       "    }\n",
       "\n",
       "    .dataframe tbody tr th {\n",
       "        vertical-align: top;\n",
       "    }\n",
       "\n",
       "    .dataframe thead th {\n",
       "        text-align: right;\n",
       "    }\n",
       "</style>\n",
       "<table border=\"1\" class=\"dataframe\">\n",
       "  <thead>\n",
       "    <tr style=\"text-align: right;\">\n",
       "      <th></th>\n",
       "      <th>text</th>\n",
       "      <th>episode_name</th>\n",
       "      <th>show_name</th>\n",
       "    </tr>\n",
       "  </thead>\n",
       "  <tbody>\n",
       "    <tr>\n",
       "      <th>0</th>\n",
       "      <td>Can it be the breeze that fills the trees\\r  W...</td>\n",
       "      <td>The Nicked Knockwurst</td>\n",
       "      <td>'Allo 'Allo! (1982) s03e01 Episode Script</td>\n",
       "    </tr>\n",
       "    <tr>\n",
       "      <th>1</th>\n",
       "      <td>Madame Peyet is in the family way.\\r  She is p...</td>\n",
       "      <td>Gruber Does Some Mincing</td>\n",
       "      <td>'Allo 'Allo! (1982) s03e02 Episode Script</td>\n",
       "    </tr>\n",
       "    <tr>\n",
       "      <th>2</th>\n",
       "      <td>Ooar!\\r  Ooh!\\r  Are you by any chance curious...</td>\n",
       "      <td>The Sausage in the Wardrobe</td>\n",
       "      <td>'Allo 'Allo! (1982) s03e03 Episode Script</td>\n",
       "    </tr>\n",
       "    <tr>\n",
       "      <th>3</th>\n",
       "      <td>It is possible that\\r the more curious among y...</td>\n",
       "      <td>The Flight of Fancy</td>\n",
       "      <td>'Allo 'Allo! (1982) s03e04 Episode Script</td>\n",
       "    </tr>\n",
       "    <tr>\n",
       "      <th>4</th>\n",
       "      <td>Oh. Do you by any chance wish to know\\r  how I...</td>\n",
       "      <td>Pretty Maids All in a Row</td>\n",
       "      <td>'Allo 'Allo! (1982) s03e05 Episode Script</td>\n",
       "    </tr>\n",
       "  </tbody>\n",
       "</table>\n",
       "</div>"
      ],
      "text/plain": [
       "                                                text  \\\n",
       "0  Can it be the breeze that fills the trees\\r  W...   \n",
       "1  Madame Peyet is in the family way.\\r  She is p...   \n",
       "2  Ooar!\\r  Ooh!\\r  Are you by any chance curious...   \n",
       "3  It is possible that\\r the more curious among y...   \n",
       "4  Oh. Do you by any chance wish to know\\r  how I...   \n",
       "\n",
       "                  episode_name                                  show_name  \n",
       "0        The Nicked Knockwurst  'Allo 'Allo! (1982) s03e01 Episode Script  \n",
       "1     Gruber Does Some Mincing  'Allo 'Allo! (1982) s03e02 Episode Script  \n",
       "2  The Sausage in the Wardrobe  'Allo 'Allo! (1982) s03e03 Episode Script  \n",
       "3          The Flight of Fancy  'Allo 'Allo! (1982) s03e04 Episode Script  \n",
       "4    Pretty Maids All in a Row  'Allo 'Allo! (1982) s03e05 Episode Script  "
      ]
     },
     "execution_count": 4,
     "metadata": {},
     "output_type": "execute_result"
    }
   ],
   "source": [
    "shows.head()"
   ]
  },
  {
   "cell_type": "code",
   "execution_count": 5,
   "metadata": {},
   "outputs": [
    {
     "data": {
      "text/html": [
       "<div>\n",
       "<style scoped>\n",
       "    .dataframe tbody tr th:only-of-type {\n",
       "        vertical-align: middle;\n",
       "    }\n",
       "\n",
       "    .dataframe tbody tr th {\n",
       "        vertical-align: top;\n",
       "    }\n",
       "\n",
       "    .dataframe thead th {\n",
       "        text-align: right;\n",
       "    }\n",
       "</style>\n",
       "<table border=\"1\" class=\"dataframe\">\n",
       "  <thead>\n",
       "    <tr style=\"text-align: right;\">\n",
       "      <th></th>\n",
       "      <th>text</th>\n",
       "      <th>episode_name</th>\n",
       "      <th>show_name</th>\n",
       "    </tr>\n",
       "  </thead>\n",
       "  <tbody>\n",
       "    <tr>\n",
       "      <th>42093</th>\n",
       "      <td>: Out of the night When the full moon ls brigh...</td>\n",
       "      <td>The Flaming Arrow</td>\n",
       "      <td>Zorro (1957) s02e11 Episode Script</td>\n",
       "    </tr>\n",
       "    <tr>\n",
       "      <th>42094</th>\n",
       "      <td>: Out of the night When the full moon ls brigh...</td>\n",
       "      <td>Zorro Fights a Duel</td>\n",
       "      <td>Zorro (1957) s02e12 Episode Script</td>\n",
       "    </tr>\n",
       "    <tr>\n",
       "      <th>42095</th>\n",
       "      <td>: Out of the night When the full moon ls brigh...</td>\n",
       "      <td>Amnesty for Zorro</td>\n",
       "      <td>Zorro (1957) s02e13 Episode Script</td>\n",
       "    </tr>\n",
       "    <tr>\n",
       "      <th>42096</th>\n",
       "      <td>: Out of the night When the full moon ls brigh...</td>\n",
       "      <td>The Runaways</td>\n",
       "      <td>Zorro (1957) s02e14 Episode Script</td>\n",
       "    </tr>\n",
       "    <tr>\n",
       "      <th>42097</th>\n",
       "      <td>: Out of the night When the full moon ls brigh...</td>\n",
       "      <td>The Iron Box</td>\n",
       "      <td>Zorro (1957) s02e15 Episode Script</td>\n",
       "    </tr>\n",
       "  </tbody>\n",
       "</table>\n",
       "</div>"
      ],
      "text/plain": [
       "                                                    text         episode_name  \\\n",
       "42093  : Out of the night When the full moon ls brigh...    The Flaming Arrow   \n",
       "42094  : Out of the night When the full moon ls brigh...  Zorro Fights a Duel   \n",
       "42095  : Out of the night When the full moon ls brigh...    Amnesty for Zorro   \n",
       "42096  : Out of the night When the full moon ls brigh...         The Runaways   \n",
       "42097  : Out of the night When the full moon ls brigh...         The Iron Box   \n",
       "\n",
       "                                show_name  \n",
       "42093  Zorro (1957) s02e11 Episode Script  \n",
       "42094  Zorro (1957) s02e12 Episode Script  \n",
       "42095  Zorro (1957) s02e13 Episode Script  \n",
       "42096  Zorro (1957) s02e14 Episode Script  \n",
       "42097  Zorro (1957) s02e15 Episode Script  "
      ]
     },
     "execution_count": 5,
     "metadata": {},
     "output_type": "execute_result"
    }
   ],
   "source": [
    "shows.tail()"
   ]
  },
  {
   "cell_type": "code",
   "execution_count": 6,
   "metadata": {},
   "outputs": [
    {
     "data": {
      "text/html": [
       "<div>\n",
       "<style scoped>\n",
       "    .dataframe tbody tr th:only-of-type {\n",
       "        vertical-align: middle;\n",
       "    }\n",
       "\n",
       "    .dataframe tbody tr th {\n",
       "        vertical-align: top;\n",
       "    }\n",
       "\n",
       "    .dataframe thead th {\n",
       "        text-align: right;\n",
       "    }\n",
       "</style>\n",
       "<table border=\"1\" class=\"dataframe\">\n",
       "  <thead>\n",
       "    <tr style=\"text-align: right;\">\n",
       "      <th></th>\n",
       "      <th>text</th>\n",
       "      <th>episode_name</th>\n",
       "      <th>show_name</th>\n",
       "    </tr>\n",
       "  </thead>\n",
       "  <tbody>\n",
       "    <tr>\n",
       "      <th>count</th>\n",
       "      <td>117225</td>\n",
       "      <td>117371</td>\n",
       "      <td>117374</td>\n",
       "    </tr>\n",
       "    <tr>\n",
       "      <th>unique</th>\n",
       "      <td>116735</td>\n",
       "      <td>88890</td>\n",
       "      <td>117315</td>\n",
       "    </tr>\n",
       "    <tr>\n",
       "      <th>top</th>\n",
       "      <td>1\\r Happy New Year 2015 - New Year, New Color ...</td>\n",
       "      <td>Episode 1</td>\n",
       "      <td>The A-Team (1983) Episode Scripts</td>\n",
       "    </tr>\n",
       "    <tr>\n",
       "      <th>freq</th>\n",
       "      <td>4</td>\n",
       "      <td>893</td>\n",
       "      <td>15</td>\n",
       "    </tr>\n",
       "  </tbody>\n",
       "</table>\n",
       "</div>"
      ],
      "text/plain": [
       "                                                     text episode_name  \\\n",
       "count                                              117225       117371   \n",
       "unique                                             116735        88890   \n",
       "top     1\\r Happy New Year 2015 - New Year, New Color ...    Episode 1   \n",
       "freq                                                    4          893   \n",
       "\n",
       "                                show_name  \n",
       "count                              117374  \n",
       "unique                             117315  \n",
       "top     The A-Team (1983) Episode Scripts  \n",
       "freq                                   15  "
      ]
     },
     "execution_count": 6,
     "metadata": {},
     "output_type": "execute_result"
    }
   ],
   "source": [
    "shows.describe()"
   ]
  },
  {
   "cell_type": "code",
   "execution_count": 7,
   "metadata": {},
   "outputs": [
    {
     "data": {
      "text/plain": [
       "text            150\n",
       "episode_name      4\n",
       "show_name         1\n",
       "dtype: int64"
      ]
     },
     "execution_count": 7,
     "metadata": {},
     "output_type": "execute_result"
    }
   ],
   "source": [
    "shows.isnull().sum()"
   ]
  },
  {
   "cell_type": "code",
   "execution_count": 8,
   "metadata": {},
   "outputs": [
    {
     "data": {
      "text/plain": [
       "The A-Team (1983) Episode Scripts                      15\n",
       "Shaun the Sheep (2007) Episode Scripts                  9\n",
       "TV Show Episode Scripts                                 3\n",
       "COPS (1989) s26e16 Episode Script                       1\n",
       "COPS (1989) s26e06 Episode Script                       1\n",
       "                                                       ..\n",
       "Lilyhammer (2011) Episode Scripts                       1\n",
       "1000 Ways to Die s05e03 Episode Script                  1\n",
       "COPS (1989) s27e11 Episode Script                       1\n",
       "Bella and the Bulldogs (2015) s01e07 Episode Script     1\n",
       "Underbelly s06e07 Episode Script                        1\n",
       "Name: show_name, Length: 125, dtype: int64"
      ]
     },
     "execution_count": 8,
     "metadata": {},
     "output_type": "execute_result"
    }
   ],
   "source": [
    "shows[shows[\"text\"].isnull()][\"show_name\"].value_counts()"
   ]
  },
  {
   "cell_type": "markdown",
   "metadata": {},
   "source": [
    "#### Cleaning Show Name Column"
   ]
  },
  {
   "cell_type": "code",
   "execution_count": 9,
   "metadata": {},
   "outputs": [],
   "source": [
    "shows[\"show_name\"] = shows[\"show_name\"].str.replace(\"Episode Script\", \"\")"
   ]
  },
  {
   "cell_type": "code",
   "execution_count": 10,
   "metadata": {
    "scrolled": true
   },
   "outputs": [],
   "source": [
    "shows[\"show_name_split\"] = shows[\"show_name\"].str.split(\"(\")"
   ]
  },
  {
   "cell_type": "code",
   "execution_count": 11,
   "metadata": {},
   "outputs": [],
   "source": [
    "shows[\"show_name\"] = shows[\"show_name_split\"].str.get(0)"
   ]
  },
  {
   "cell_type": "code",
   "execution_count": 12,
   "metadata": {},
   "outputs": [],
   "source": [
    "shows[\"show_name\"] = shows[\"show_name\"].str.replace(\"\\'\", \"\")"
   ]
  },
  {
   "cell_type": "code",
   "execution_count": 13,
   "metadata": {
    "scrolled": false
   },
   "outputs": [
    {
     "data": {
      "text/html": [
       "<div>\n",
       "<style scoped>\n",
       "    .dataframe tbody tr th:only-of-type {\n",
       "        vertical-align: middle;\n",
       "    }\n",
       "\n",
       "    .dataframe tbody tr th {\n",
       "        vertical-align: top;\n",
       "    }\n",
       "\n",
       "    .dataframe thead th {\n",
       "        text-align: right;\n",
       "    }\n",
       "</style>\n",
       "<table border=\"1\" class=\"dataframe\">\n",
       "  <thead>\n",
       "    <tr style=\"text-align: right;\">\n",
       "      <th></th>\n",
       "      <th>text</th>\n",
       "      <th>episode_name</th>\n",
       "      <th>show_name</th>\n",
       "      <th>show_name_split</th>\n",
       "    </tr>\n",
       "  </thead>\n",
       "  <tbody>\n",
       "    <tr>\n",
       "      <th>0</th>\n",
       "      <td>Can it be the breeze that fills the trees\\r  W...</td>\n",
       "      <td>The Nicked Knockwurst</td>\n",
       "      <td>Allo Allo!</td>\n",
       "      <td>['Allo 'Allo! , 1982) s03e01 ]</td>\n",
       "    </tr>\n",
       "    <tr>\n",
       "      <th>1</th>\n",
       "      <td>Madame Peyet is in the family way.\\r  She is p...</td>\n",
       "      <td>Gruber Does Some Mincing</td>\n",
       "      <td>Allo Allo!</td>\n",
       "      <td>['Allo 'Allo! , 1982) s03e02 ]</td>\n",
       "    </tr>\n",
       "    <tr>\n",
       "      <th>2</th>\n",
       "      <td>Ooar!\\r  Ooh!\\r  Are you by any chance curious...</td>\n",
       "      <td>The Sausage in the Wardrobe</td>\n",
       "      <td>Allo Allo!</td>\n",
       "      <td>['Allo 'Allo! , 1982) s03e03 ]</td>\n",
       "    </tr>\n",
       "    <tr>\n",
       "      <th>3</th>\n",
       "      <td>It is possible that\\r the more curious among y...</td>\n",
       "      <td>The Flight of Fancy</td>\n",
       "      <td>Allo Allo!</td>\n",
       "      <td>['Allo 'Allo! , 1982) s03e04 ]</td>\n",
       "    </tr>\n",
       "    <tr>\n",
       "      <th>4</th>\n",
       "      <td>Oh. Do you by any chance wish to know\\r  how I...</td>\n",
       "      <td>Pretty Maids All in a Row</td>\n",
       "      <td>Allo Allo!</td>\n",
       "      <td>['Allo 'Allo! , 1982) s03e05 ]</td>\n",
       "    </tr>\n",
       "  </tbody>\n",
       "</table>\n",
       "</div>"
      ],
      "text/plain": [
       "                                                text  \\\n",
       "0  Can it be the breeze that fills the trees\\r  W...   \n",
       "1  Madame Peyet is in the family way.\\r  She is p...   \n",
       "2  Ooar!\\r  Ooh!\\r  Are you by any chance curious...   \n",
       "3  It is possible that\\r the more curious among y...   \n",
       "4  Oh. Do you by any chance wish to know\\r  how I...   \n",
       "\n",
       "                  episode_name    show_name                 show_name_split  \n",
       "0        The Nicked Knockwurst  Allo Allo!   ['Allo 'Allo! , 1982) s03e01 ]  \n",
       "1     Gruber Does Some Mincing  Allo Allo!   ['Allo 'Allo! , 1982) s03e02 ]  \n",
       "2  The Sausage in the Wardrobe  Allo Allo!   ['Allo 'Allo! , 1982) s03e03 ]  \n",
       "3          The Flight of Fancy  Allo Allo!   ['Allo 'Allo! , 1982) s03e04 ]  \n",
       "4    Pretty Maids All in a Row  Allo Allo!   ['Allo 'Allo! , 1982) s03e05 ]  "
      ]
     },
     "execution_count": 13,
     "metadata": {},
     "output_type": "execute_result"
    }
   ],
   "source": [
    "shows.head()"
   ]
  },
  {
   "cell_type": "code",
   "execution_count": 14,
   "metadata": {},
   "outputs": [],
   "source": [
    "shows[\"year_season_episode\"] = shows[\"show_name_split\"].str.get(1)"
   ]
  },
  {
   "cell_type": "code",
   "execution_count": 15,
   "metadata": {},
   "outputs": [
    {
     "data": {
      "text/html": [
       "<div>\n",
       "<style scoped>\n",
       "    .dataframe tbody tr th:only-of-type {\n",
       "        vertical-align: middle;\n",
       "    }\n",
       "\n",
       "    .dataframe tbody tr th {\n",
       "        vertical-align: top;\n",
       "    }\n",
       "\n",
       "    .dataframe thead th {\n",
       "        text-align: right;\n",
       "    }\n",
       "</style>\n",
       "<table border=\"1\" class=\"dataframe\">\n",
       "  <thead>\n",
       "    <tr style=\"text-align: right;\">\n",
       "      <th></th>\n",
       "      <th>text</th>\n",
       "      <th>episode_name</th>\n",
       "      <th>show_name</th>\n",
       "      <th>show_name_split</th>\n",
       "      <th>year_season_episode</th>\n",
       "    </tr>\n",
       "  </thead>\n",
       "  <tbody>\n",
       "    <tr>\n",
       "      <th>0</th>\n",
       "      <td>Can it be the breeze that fills the trees\\r  W...</td>\n",
       "      <td>The Nicked Knockwurst</td>\n",
       "      <td>Allo Allo!</td>\n",
       "      <td>['Allo 'Allo! , 1982) s03e01 ]</td>\n",
       "      <td>1982) s03e01</td>\n",
       "    </tr>\n",
       "    <tr>\n",
       "      <th>1</th>\n",
       "      <td>Madame Peyet is in the family way.\\r  She is p...</td>\n",
       "      <td>Gruber Does Some Mincing</td>\n",
       "      <td>Allo Allo!</td>\n",
       "      <td>['Allo 'Allo! , 1982) s03e02 ]</td>\n",
       "      <td>1982) s03e02</td>\n",
       "    </tr>\n",
       "    <tr>\n",
       "      <th>2</th>\n",
       "      <td>Ooar!\\r  Ooh!\\r  Are you by any chance curious...</td>\n",
       "      <td>The Sausage in the Wardrobe</td>\n",
       "      <td>Allo Allo!</td>\n",
       "      <td>['Allo 'Allo! , 1982) s03e03 ]</td>\n",
       "      <td>1982) s03e03</td>\n",
       "    </tr>\n",
       "    <tr>\n",
       "      <th>3</th>\n",
       "      <td>It is possible that\\r the more curious among y...</td>\n",
       "      <td>The Flight of Fancy</td>\n",
       "      <td>Allo Allo!</td>\n",
       "      <td>['Allo 'Allo! , 1982) s03e04 ]</td>\n",
       "      <td>1982) s03e04</td>\n",
       "    </tr>\n",
       "    <tr>\n",
       "      <th>4</th>\n",
       "      <td>Oh. Do you by any chance wish to know\\r  how I...</td>\n",
       "      <td>Pretty Maids All in a Row</td>\n",
       "      <td>Allo Allo!</td>\n",
       "      <td>['Allo 'Allo! , 1982) s03e05 ]</td>\n",
       "      <td>1982) s03e05</td>\n",
       "    </tr>\n",
       "  </tbody>\n",
       "</table>\n",
       "</div>"
      ],
      "text/plain": [
       "                                                text  \\\n",
       "0  Can it be the breeze that fills the trees\\r  W...   \n",
       "1  Madame Peyet is in the family way.\\r  She is p...   \n",
       "2  Ooar!\\r  Ooh!\\r  Are you by any chance curious...   \n",
       "3  It is possible that\\r the more curious among y...   \n",
       "4  Oh. Do you by any chance wish to know\\r  how I...   \n",
       "\n",
       "                  episode_name    show_name                 show_name_split  \\\n",
       "0        The Nicked Knockwurst  Allo Allo!   ['Allo 'Allo! , 1982) s03e01 ]   \n",
       "1     Gruber Does Some Mincing  Allo Allo!   ['Allo 'Allo! , 1982) s03e02 ]   \n",
       "2  The Sausage in the Wardrobe  Allo Allo!   ['Allo 'Allo! , 1982) s03e03 ]   \n",
       "3          The Flight of Fancy  Allo Allo!   ['Allo 'Allo! , 1982) s03e04 ]   \n",
       "4    Pretty Maids All in a Row  Allo Allo!   ['Allo 'Allo! , 1982) s03e05 ]   \n",
       "\n",
       "  year_season_episode  \n",
       "0       1982) s03e01   \n",
       "1       1982) s03e02   \n",
       "2       1982) s03e03   \n",
       "3       1982) s03e04   \n",
       "4       1982) s03e05   "
      ]
     },
     "execution_count": 15,
     "metadata": {},
     "output_type": "execute_result"
    }
   ],
   "source": [
    "shows.head()"
   ]
  },
  {
   "cell_type": "code",
   "execution_count": 16,
   "metadata": {},
   "outputs": [],
   "source": [
    "shows[\"year_season_episode_split\"] = shows[\"year_season_episode\"].str.split(\" \")"
   ]
  },
  {
   "cell_type": "code",
   "execution_count": 17,
   "metadata": {},
   "outputs": [],
   "source": [
    "shows[\"year\"] = shows[\"year_season_episode_split\"].str.get(0).str.replace(\")\", \"\")"
   ]
  },
  {
   "cell_type": "code",
   "execution_count": 18,
   "metadata": {},
   "outputs": [
    {
     "data": {
      "text/html": [
       "<div>\n",
       "<style scoped>\n",
       "    .dataframe tbody tr th:only-of-type {\n",
       "        vertical-align: middle;\n",
       "    }\n",
       "\n",
       "    .dataframe tbody tr th {\n",
       "        vertical-align: top;\n",
       "    }\n",
       "\n",
       "    .dataframe thead th {\n",
       "        text-align: right;\n",
       "    }\n",
       "</style>\n",
       "<table border=\"1\" class=\"dataframe\">\n",
       "  <thead>\n",
       "    <tr style=\"text-align: right;\">\n",
       "      <th></th>\n",
       "      <th>text</th>\n",
       "      <th>episode_name</th>\n",
       "      <th>show_name</th>\n",
       "      <th>show_name_split</th>\n",
       "      <th>year_season_episode</th>\n",
       "      <th>year_season_episode_split</th>\n",
       "      <th>year</th>\n",
       "    </tr>\n",
       "  </thead>\n",
       "  <tbody>\n",
       "    <tr>\n",
       "      <th>0</th>\n",
       "      <td>Can it be the breeze that fills the trees\\r  W...</td>\n",
       "      <td>The Nicked Knockwurst</td>\n",
       "      <td>Allo Allo!</td>\n",
       "      <td>['Allo 'Allo! , 1982) s03e01 ]</td>\n",
       "      <td>1982) s03e01</td>\n",
       "      <td>[1982), s03e01, ]</td>\n",
       "      <td>1982</td>\n",
       "    </tr>\n",
       "    <tr>\n",
       "      <th>1</th>\n",
       "      <td>Madame Peyet is in the family way.\\r  She is p...</td>\n",
       "      <td>Gruber Does Some Mincing</td>\n",
       "      <td>Allo Allo!</td>\n",
       "      <td>['Allo 'Allo! , 1982) s03e02 ]</td>\n",
       "      <td>1982) s03e02</td>\n",
       "      <td>[1982), s03e02, ]</td>\n",
       "      <td>1982</td>\n",
       "    </tr>\n",
       "    <tr>\n",
       "      <th>2</th>\n",
       "      <td>Ooar!\\r  Ooh!\\r  Are you by any chance curious...</td>\n",
       "      <td>The Sausage in the Wardrobe</td>\n",
       "      <td>Allo Allo!</td>\n",
       "      <td>['Allo 'Allo! , 1982) s03e03 ]</td>\n",
       "      <td>1982) s03e03</td>\n",
       "      <td>[1982), s03e03, ]</td>\n",
       "      <td>1982</td>\n",
       "    </tr>\n",
       "    <tr>\n",
       "      <th>3</th>\n",
       "      <td>It is possible that\\r the more curious among y...</td>\n",
       "      <td>The Flight of Fancy</td>\n",
       "      <td>Allo Allo!</td>\n",
       "      <td>['Allo 'Allo! , 1982) s03e04 ]</td>\n",
       "      <td>1982) s03e04</td>\n",
       "      <td>[1982), s03e04, ]</td>\n",
       "      <td>1982</td>\n",
       "    </tr>\n",
       "    <tr>\n",
       "      <th>4</th>\n",
       "      <td>Oh. Do you by any chance wish to know\\r  how I...</td>\n",
       "      <td>Pretty Maids All in a Row</td>\n",
       "      <td>Allo Allo!</td>\n",
       "      <td>['Allo 'Allo! , 1982) s03e05 ]</td>\n",
       "      <td>1982) s03e05</td>\n",
       "      <td>[1982), s03e05, ]</td>\n",
       "      <td>1982</td>\n",
       "    </tr>\n",
       "  </tbody>\n",
       "</table>\n",
       "</div>"
      ],
      "text/plain": [
       "                                                text  \\\n",
       "0  Can it be the breeze that fills the trees\\r  W...   \n",
       "1  Madame Peyet is in the family way.\\r  She is p...   \n",
       "2  Ooar!\\r  Ooh!\\r  Are you by any chance curious...   \n",
       "3  It is possible that\\r the more curious among y...   \n",
       "4  Oh. Do you by any chance wish to know\\r  how I...   \n",
       "\n",
       "                  episode_name    show_name                 show_name_split  \\\n",
       "0        The Nicked Knockwurst  Allo Allo!   ['Allo 'Allo! , 1982) s03e01 ]   \n",
       "1     Gruber Does Some Mincing  Allo Allo!   ['Allo 'Allo! , 1982) s03e02 ]   \n",
       "2  The Sausage in the Wardrobe  Allo Allo!   ['Allo 'Allo! , 1982) s03e03 ]   \n",
       "3          The Flight of Fancy  Allo Allo!   ['Allo 'Allo! , 1982) s03e04 ]   \n",
       "4    Pretty Maids All in a Row  Allo Allo!   ['Allo 'Allo! , 1982) s03e05 ]   \n",
       "\n",
       "  year_season_episode year_season_episode_split  year  \n",
       "0       1982) s03e01          [1982), s03e01, ]  1982  \n",
       "1       1982) s03e02          [1982), s03e02, ]  1982  \n",
       "2       1982) s03e03          [1982), s03e03, ]  1982  \n",
       "3       1982) s03e04          [1982), s03e04, ]  1982  \n",
       "4       1982) s03e05          [1982), s03e05, ]  1982  "
      ]
     },
     "execution_count": 18,
     "metadata": {},
     "output_type": "execute_result"
    }
   ],
   "source": [
    "shows.head()"
   ]
  },
  {
   "cell_type": "code",
   "execution_count": 19,
   "metadata": {},
   "outputs": [],
   "source": [
    "shows[\"season_episode_split\"] = shows[\"year_season_episode_split\"].str.get(1).str.split(\"e\")"
   ]
  },
  {
   "cell_type": "code",
   "execution_count": 20,
   "metadata": {},
   "outputs": [
    {
     "data": {
      "text/html": [
       "<div>\n",
       "<style scoped>\n",
       "    .dataframe tbody tr th:only-of-type {\n",
       "        vertical-align: middle;\n",
       "    }\n",
       "\n",
       "    .dataframe tbody tr th {\n",
       "        vertical-align: top;\n",
       "    }\n",
       "\n",
       "    .dataframe thead th {\n",
       "        text-align: right;\n",
       "    }\n",
       "</style>\n",
       "<table border=\"1\" class=\"dataframe\">\n",
       "  <thead>\n",
       "    <tr style=\"text-align: right;\">\n",
       "      <th></th>\n",
       "      <th>text</th>\n",
       "      <th>episode_name</th>\n",
       "      <th>show_name</th>\n",
       "      <th>show_name_split</th>\n",
       "      <th>year_season_episode</th>\n",
       "      <th>year_season_episode_split</th>\n",
       "      <th>year</th>\n",
       "      <th>season_episode_split</th>\n",
       "    </tr>\n",
       "  </thead>\n",
       "  <tbody>\n",
       "    <tr>\n",
       "      <th>0</th>\n",
       "      <td>Can it be the breeze that fills the trees\\r  W...</td>\n",
       "      <td>The Nicked Knockwurst</td>\n",
       "      <td>Allo Allo!</td>\n",
       "      <td>['Allo 'Allo! , 1982) s03e01 ]</td>\n",
       "      <td>1982) s03e01</td>\n",
       "      <td>[1982), s03e01, ]</td>\n",
       "      <td>1982</td>\n",
       "      <td>[s03, 01]</td>\n",
       "    </tr>\n",
       "    <tr>\n",
       "      <th>1</th>\n",
       "      <td>Madame Peyet is in the family way.\\r  She is p...</td>\n",
       "      <td>Gruber Does Some Mincing</td>\n",
       "      <td>Allo Allo!</td>\n",
       "      <td>['Allo 'Allo! , 1982) s03e02 ]</td>\n",
       "      <td>1982) s03e02</td>\n",
       "      <td>[1982), s03e02, ]</td>\n",
       "      <td>1982</td>\n",
       "      <td>[s03, 02]</td>\n",
       "    </tr>\n",
       "    <tr>\n",
       "      <th>2</th>\n",
       "      <td>Ooar!\\r  Ooh!\\r  Are you by any chance curious...</td>\n",
       "      <td>The Sausage in the Wardrobe</td>\n",
       "      <td>Allo Allo!</td>\n",
       "      <td>['Allo 'Allo! , 1982) s03e03 ]</td>\n",
       "      <td>1982) s03e03</td>\n",
       "      <td>[1982), s03e03, ]</td>\n",
       "      <td>1982</td>\n",
       "      <td>[s03, 03]</td>\n",
       "    </tr>\n",
       "    <tr>\n",
       "      <th>3</th>\n",
       "      <td>It is possible that\\r the more curious among y...</td>\n",
       "      <td>The Flight of Fancy</td>\n",
       "      <td>Allo Allo!</td>\n",
       "      <td>['Allo 'Allo! , 1982) s03e04 ]</td>\n",
       "      <td>1982) s03e04</td>\n",
       "      <td>[1982), s03e04, ]</td>\n",
       "      <td>1982</td>\n",
       "      <td>[s03, 04]</td>\n",
       "    </tr>\n",
       "    <tr>\n",
       "      <th>4</th>\n",
       "      <td>Oh. Do you by any chance wish to know\\r  how I...</td>\n",
       "      <td>Pretty Maids All in a Row</td>\n",
       "      <td>Allo Allo!</td>\n",
       "      <td>['Allo 'Allo! , 1982) s03e05 ]</td>\n",
       "      <td>1982) s03e05</td>\n",
       "      <td>[1982), s03e05, ]</td>\n",
       "      <td>1982</td>\n",
       "      <td>[s03, 05]</td>\n",
       "    </tr>\n",
       "  </tbody>\n",
       "</table>\n",
       "</div>"
      ],
      "text/plain": [
       "                                                text  \\\n",
       "0  Can it be the breeze that fills the trees\\r  W...   \n",
       "1  Madame Peyet is in the family way.\\r  She is p...   \n",
       "2  Ooar!\\r  Ooh!\\r  Are you by any chance curious...   \n",
       "3  It is possible that\\r the more curious among y...   \n",
       "4  Oh. Do you by any chance wish to know\\r  how I...   \n",
       "\n",
       "                  episode_name    show_name                 show_name_split  \\\n",
       "0        The Nicked Knockwurst  Allo Allo!   ['Allo 'Allo! , 1982) s03e01 ]   \n",
       "1     Gruber Does Some Mincing  Allo Allo!   ['Allo 'Allo! , 1982) s03e02 ]   \n",
       "2  The Sausage in the Wardrobe  Allo Allo!   ['Allo 'Allo! , 1982) s03e03 ]   \n",
       "3          The Flight of Fancy  Allo Allo!   ['Allo 'Allo! , 1982) s03e04 ]   \n",
       "4    Pretty Maids All in a Row  Allo Allo!   ['Allo 'Allo! , 1982) s03e05 ]   \n",
       "\n",
       "  year_season_episode year_season_episode_split  year season_episode_split  \n",
       "0       1982) s03e01          [1982), s03e01, ]  1982            [s03, 01]  \n",
       "1       1982) s03e02          [1982), s03e02, ]  1982            [s03, 02]  \n",
       "2       1982) s03e03          [1982), s03e03, ]  1982            [s03, 03]  \n",
       "3       1982) s03e04          [1982), s03e04, ]  1982            [s03, 04]  \n",
       "4       1982) s03e05          [1982), s03e05, ]  1982            [s03, 05]  "
      ]
     },
     "execution_count": 20,
     "metadata": {},
     "output_type": "execute_result"
    }
   ],
   "source": [
    "shows.head()"
   ]
  },
  {
   "cell_type": "code",
   "execution_count": 21,
   "metadata": {},
   "outputs": [],
   "source": [
    "shows[\"season\"] = shows[\"season_episode_split\"].str.get(0).str.replace(\"s\", \"\")"
   ]
  },
  {
   "cell_type": "code",
   "execution_count": 22,
   "metadata": {},
   "outputs": [],
   "source": [
    "shows[\"episode_number\"] = shows[\"season_episode_split\"].str.get(1)"
   ]
  },
  {
   "cell_type": "code",
   "execution_count": 23,
   "metadata": {},
   "outputs": [
    {
     "data": {
      "text/html": [
       "<div>\n",
       "<style scoped>\n",
       "    .dataframe tbody tr th:only-of-type {\n",
       "        vertical-align: middle;\n",
       "    }\n",
       "\n",
       "    .dataframe tbody tr th {\n",
       "        vertical-align: top;\n",
       "    }\n",
       "\n",
       "    .dataframe thead th {\n",
       "        text-align: right;\n",
       "    }\n",
       "</style>\n",
       "<table border=\"1\" class=\"dataframe\">\n",
       "  <thead>\n",
       "    <tr style=\"text-align: right;\">\n",
       "      <th></th>\n",
       "      <th>text</th>\n",
       "      <th>episode_name</th>\n",
       "      <th>show_name</th>\n",
       "      <th>show_name_split</th>\n",
       "      <th>year_season_episode</th>\n",
       "      <th>year_season_episode_split</th>\n",
       "      <th>year</th>\n",
       "      <th>season_episode_split</th>\n",
       "      <th>season</th>\n",
       "      <th>episode_number</th>\n",
       "    </tr>\n",
       "  </thead>\n",
       "  <tbody>\n",
       "    <tr>\n",
       "      <th>0</th>\n",
       "      <td>Can it be the breeze that fills the trees\\r  W...</td>\n",
       "      <td>The Nicked Knockwurst</td>\n",
       "      <td>Allo Allo!</td>\n",
       "      <td>['Allo 'Allo! , 1982) s03e01 ]</td>\n",
       "      <td>1982) s03e01</td>\n",
       "      <td>[1982), s03e01, ]</td>\n",
       "      <td>1982</td>\n",
       "      <td>[s03, 01]</td>\n",
       "      <td>03</td>\n",
       "      <td>01</td>\n",
       "    </tr>\n",
       "    <tr>\n",
       "      <th>1</th>\n",
       "      <td>Madame Peyet is in the family way.\\r  She is p...</td>\n",
       "      <td>Gruber Does Some Mincing</td>\n",
       "      <td>Allo Allo!</td>\n",
       "      <td>['Allo 'Allo! , 1982) s03e02 ]</td>\n",
       "      <td>1982) s03e02</td>\n",
       "      <td>[1982), s03e02, ]</td>\n",
       "      <td>1982</td>\n",
       "      <td>[s03, 02]</td>\n",
       "      <td>03</td>\n",
       "      <td>02</td>\n",
       "    </tr>\n",
       "    <tr>\n",
       "      <th>2</th>\n",
       "      <td>Ooar!\\r  Ooh!\\r  Are you by any chance curious...</td>\n",
       "      <td>The Sausage in the Wardrobe</td>\n",
       "      <td>Allo Allo!</td>\n",
       "      <td>['Allo 'Allo! , 1982) s03e03 ]</td>\n",
       "      <td>1982) s03e03</td>\n",
       "      <td>[1982), s03e03, ]</td>\n",
       "      <td>1982</td>\n",
       "      <td>[s03, 03]</td>\n",
       "      <td>03</td>\n",
       "      <td>03</td>\n",
       "    </tr>\n",
       "    <tr>\n",
       "      <th>3</th>\n",
       "      <td>It is possible that\\r the more curious among y...</td>\n",
       "      <td>The Flight of Fancy</td>\n",
       "      <td>Allo Allo!</td>\n",
       "      <td>['Allo 'Allo! , 1982) s03e04 ]</td>\n",
       "      <td>1982) s03e04</td>\n",
       "      <td>[1982), s03e04, ]</td>\n",
       "      <td>1982</td>\n",
       "      <td>[s03, 04]</td>\n",
       "      <td>03</td>\n",
       "      <td>04</td>\n",
       "    </tr>\n",
       "    <tr>\n",
       "      <th>4</th>\n",
       "      <td>Oh. Do you by any chance wish to know\\r  how I...</td>\n",
       "      <td>Pretty Maids All in a Row</td>\n",
       "      <td>Allo Allo!</td>\n",
       "      <td>['Allo 'Allo! , 1982) s03e05 ]</td>\n",
       "      <td>1982) s03e05</td>\n",
       "      <td>[1982), s03e05, ]</td>\n",
       "      <td>1982</td>\n",
       "      <td>[s03, 05]</td>\n",
       "      <td>03</td>\n",
       "      <td>05</td>\n",
       "    </tr>\n",
       "  </tbody>\n",
       "</table>\n",
       "</div>"
      ],
      "text/plain": [
       "                                                text  \\\n",
       "0  Can it be the breeze that fills the trees\\r  W...   \n",
       "1  Madame Peyet is in the family way.\\r  She is p...   \n",
       "2  Ooar!\\r  Ooh!\\r  Are you by any chance curious...   \n",
       "3  It is possible that\\r the more curious among y...   \n",
       "4  Oh. Do you by any chance wish to know\\r  how I...   \n",
       "\n",
       "                  episode_name    show_name                 show_name_split  \\\n",
       "0        The Nicked Knockwurst  Allo Allo!   ['Allo 'Allo! , 1982) s03e01 ]   \n",
       "1     Gruber Does Some Mincing  Allo Allo!   ['Allo 'Allo! , 1982) s03e02 ]   \n",
       "2  The Sausage in the Wardrobe  Allo Allo!   ['Allo 'Allo! , 1982) s03e03 ]   \n",
       "3          The Flight of Fancy  Allo Allo!   ['Allo 'Allo! , 1982) s03e04 ]   \n",
       "4    Pretty Maids All in a Row  Allo Allo!   ['Allo 'Allo! , 1982) s03e05 ]   \n",
       "\n",
       "  year_season_episode year_season_episode_split  year season_episode_split  \\\n",
       "0       1982) s03e01          [1982), s03e01, ]  1982            [s03, 01]   \n",
       "1       1982) s03e02          [1982), s03e02, ]  1982            [s03, 02]   \n",
       "2       1982) s03e03          [1982), s03e03, ]  1982            [s03, 03]   \n",
       "3       1982) s03e04          [1982), s03e04, ]  1982            [s03, 04]   \n",
       "4       1982) s03e05          [1982), s03e05, ]  1982            [s03, 05]   \n",
       "\n",
       "  season episode_number  \n",
       "0     03             01  \n",
       "1     03             02  \n",
       "2     03             03  \n",
       "3     03             04  \n",
       "4     03             05  "
      ]
     },
     "execution_count": 23,
     "metadata": {},
     "output_type": "execute_result"
    }
   ],
   "source": [
    "shows.head()"
   ]
  },
  {
   "cell_type": "code",
   "execution_count": 24,
   "metadata": {},
   "outputs": [],
   "source": [
    "shows = shows.drop(columns=[\"show_name_split\", \"year_season_episode\", \"year_season_episode_split\", \"season_episode_split\"])"
   ]
  },
  {
   "cell_type": "code",
   "execution_count": 25,
   "metadata": {},
   "outputs": [
    {
     "data": {
      "text/html": [
       "<div>\n",
       "<style scoped>\n",
       "    .dataframe tbody tr th:only-of-type {\n",
       "        vertical-align: middle;\n",
       "    }\n",
       "\n",
       "    .dataframe tbody tr th {\n",
       "        vertical-align: top;\n",
       "    }\n",
       "\n",
       "    .dataframe thead th {\n",
       "        text-align: right;\n",
       "    }\n",
       "</style>\n",
       "<table border=\"1\" class=\"dataframe\">\n",
       "  <thead>\n",
       "    <tr style=\"text-align: right;\">\n",
       "      <th></th>\n",
       "      <th>text</th>\n",
       "      <th>episode_name</th>\n",
       "      <th>show_name</th>\n",
       "      <th>year</th>\n",
       "      <th>season</th>\n",
       "      <th>episode_number</th>\n",
       "    </tr>\n",
       "  </thead>\n",
       "  <tbody>\n",
       "    <tr>\n",
       "      <th>0</th>\n",
       "      <td>Can it be the breeze that fills the trees\\r  W...</td>\n",
       "      <td>The Nicked Knockwurst</td>\n",
       "      <td>Allo Allo!</td>\n",
       "      <td>1982</td>\n",
       "      <td>03</td>\n",
       "      <td>01</td>\n",
       "    </tr>\n",
       "    <tr>\n",
       "      <th>1</th>\n",
       "      <td>Madame Peyet is in the family way.\\r  She is p...</td>\n",
       "      <td>Gruber Does Some Mincing</td>\n",
       "      <td>Allo Allo!</td>\n",
       "      <td>1982</td>\n",
       "      <td>03</td>\n",
       "      <td>02</td>\n",
       "    </tr>\n",
       "    <tr>\n",
       "      <th>2</th>\n",
       "      <td>Ooar!\\r  Ooh!\\r  Are you by any chance curious...</td>\n",
       "      <td>The Sausage in the Wardrobe</td>\n",
       "      <td>Allo Allo!</td>\n",
       "      <td>1982</td>\n",
       "      <td>03</td>\n",
       "      <td>03</td>\n",
       "    </tr>\n",
       "    <tr>\n",
       "      <th>3</th>\n",
       "      <td>It is possible that\\r the more curious among y...</td>\n",
       "      <td>The Flight of Fancy</td>\n",
       "      <td>Allo Allo!</td>\n",
       "      <td>1982</td>\n",
       "      <td>03</td>\n",
       "      <td>04</td>\n",
       "    </tr>\n",
       "    <tr>\n",
       "      <th>4</th>\n",
       "      <td>Oh. Do you by any chance wish to know\\r  how I...</td>\n",
       "      <td>Pretty Maids All in a Row</td>\n",
       "      <td>Allo Allo!</td>\n",
       "      <td>1982</td>\n",
       "      <td>03</td>\n",
       "      <td>05</td>\n",
       "    </tr>\n",
       "  </tbody>\n",
       "</table>\n",
       "</div>"
      ],
      "text/plain": [
       "                                                text  \\\n",
       "0  Can it be the breeze that fills the trees\\r  W...   \n",
       "1  Madame Peyet is in the family way.\\r  She is p...   \n",
       "2  Ooar!\\r  Ooh!\\r  Are you by any chance curious...   \n",
       "3  It is possible that\\r the more curious among y...   \n",
       "4  Oh. Do you by any chance wish to know\\r  how I...   \n",
       "\n",
       "                  episode_name    show_name  year season episode_number  \n",
       "0        The Nicked Knockwurst  Allo Allo!   1982     03             01  \n",
       "1     Gruber Does Some Mincing  Allo Allo!   1982     03             02  \n",
       "2  The Sausage in the Wardrobe  Allo Allo!   1982     03             03  \n",
       "3          The Flight of Fancy  Allo Allo!   1982     03             04  \n",
       "4    Pretty Maids All in a Row  Allo Allo!   1982     03             05  "
      ]
     },
     "execution_count": 25,
     "metadata": {},
     "output_type": "execute_result"
    }
   ],
   "source": [
    "shows.head()"
   ]
  },
  {
   "cell_type": "code",
   "execution_count": 26,
   "metadata": {},
   "outputs": [
    {
     "name": "stdout",
     "output_type": "stream",
     "text": [
      "<class 'pandas.core.frame.DataFrame'>\n",
      "Int64Index: 117375 entries, 0 to 42097\n",
      "Data columns (total 6 columns):\n",
      "text              117225 non-null object\n",
      "episode_name      117371 non-null object\n",
      "show_name         117374 non-null object\n",
      "year              72418 non-null object\n",
      "season            72418 non-null object\n",
      "episode_number    71372 non-null object\n",
      "dtypes: object(6)\n",
      "memory usage: 6.3+ MB\n"
     ]
    }
   ],
   "source": [
    "shows.info()"
   ]
  },
  {
   "cell_type": "markdown",
   "metadata": {},
   "source": [
    "#### Cleaning the Show Name Column "
   ]
  },
  {
   "cell_type": "markdown",
   "metadata": {},
   "source": [
    "There is one row that has no show name, and when inspected, is a completely null row. Will drop"
   ]
  },
  {
   "cell_type": "code",
   "execution_count": 35,
   "metadata": {},
   "outputs": [
    {
     "data": {
      "text/plain": [
       "(1, 6)"
      ]
     },
     "execution_count": 35,
     "metadata": {},
     "output_type": "execute_result"
    }
   ],
   "source": [
    "shows[shows[\"show_name\"].isnull()].shape"
   ]
  },
  {
   "cell_type": "code",
   "execution_count": 36,
   "metadata": {},
   "outputs": [],
   "source": [
    "shows = shows.drop(shows[shows[\"show_name\"].isnull()].index)"
   ]
  },
  {
   "cell_type": "code",
   "execution_count": 37,
   "metadata": {},
   "outputs": [
    {
     "name": "stdout",
     "output_type": "stream",
     "text": [
      "<class 'pandas.core.frame.DataFrame'>\n",
      "Int64Index: 117373 entries, 0 to 42097\n",
      "Data columns (total 6 columns):\n",
      "text              117224 non-null object\n",
      "episode_name      117370 non-null object\n",
      "show_name         117373 non-null object\n",
      "year              72417 non-null object\n",
      "season            72417 non-null object\n",
      "episode_number    71371 non-null object\n",
      "dtypes: object(6)\n",
      "memory usage: 6.3+ MB\n"
     ]
    }
   ],
   "source": [
    "shows.info()"
   ]
  },
  {
   "cell_type": "code",
   "execution_count": 44,
   "metadata": {},
   "outputs": [
    {
     "data": {
      "text/plain": [
       "Doctor Who                       702\n",
       "Naruto: Shippuden                500\n",
       "Law & Order                      456\n",
       "Teenage Mutant Ninja Turtles     315\n",
       "Last of the Summer Wine          287\n",
       "                                ... \n",
       "Gossip Girl s04e10                 1\n",
       "The Chicago Code s01e13            1\n",
       "Everwood s01e14                    1\n",
       "Party of Five s06e07               1\n",
       "Psych s04e08                       1\n",
       "Name: show_name, Length: 48869, dtype: int64"
      ]
     },
     "execution_count": 44,
     "metadata": {},
     "output_type": "execute_result"
    }
   ],
   "source": [
    "shows[\"show_name\"].value_counts()"
   ]
  },
  {
   "cell_type": "markdown",
   "metadata": {},
   "source": [
    "The NaN values in the year, season, and episode_number are due to a different show_name format. Will split the dataframe to clean these show names, fill in the missing values with the ones in the show names and then recombine with the already cleaned data "
   ]
  },
  {
   "cell_type": "code",
   "execution_count": 55,
   "metadata": {},
   "outputs": [],
   "source": [
    "#pulling out show_names with a number\n",
    "mask = shows[\"show_name\"].str.contains(\"\\d\")"
   ]
  },
  {
   "cell_type": "code",
   "execution_count": null,
   "metadata": {},
   "outputs": [],
   "source": []
  }
 ],
 "metadata": {
  "kernelspec": {
   "display_name": "Python 3",
   "language": "python",
   "name": "python3"
  },
  "language_info": {
   "codemirror_mode": {
    "name": "ipython",
    "version": 3
   },
   "file_extension": ".py",
   "mimetype": "text/x-python",
   "name": "python",
   "nbconvert_exporter": "python",
   "pygments_lexer": "ipython3",
   "version": "3.7.3"
  }
 },
 "nbformat": 4,
 "nbformat_minor": 2
}
