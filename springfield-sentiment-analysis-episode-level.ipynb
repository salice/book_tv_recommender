{
 "cells": [
  {
   "cell_type": "code",
   "execution_count": 1,
   "metadata": {},
   "outputs": [],
   "source": [
    "import numpy as np\n",
    "import pandas as pd\n",
    "import matplotlib.pyplot as plt\n",
    "import seaborn as sns\n",
    "\n",
    "from nltk.sentiment.vader import SentimentIntensityAnalyzer"
   ]
  },
  {
   "cell_type": "code",
   "execution_count": 2,
   "metadata": {},
   "outputs": [
    {
     "data": {
      "text/html": [
       "<div>\n",
       "<style scoped>\n",
       "    .dataframe tbody tr th:only-of-type {\n",
       "        vertical-align: middle;\n",
       "    }\n",
       "\n",
       "    .dataframe tbody tr th {\n",
       "        vertical-align: top;\n",
       "    }\n",
       "\n",
       "    .dataframe thead th {\n",
       "        text-align: right;\n",
       "    }\n",
       "</style>\n",
       "<table border=\"1\" class=\"dataframe\">\n",
       "  <thead>\n",
       "    <tr style=\"text-align: right;\">\n",
       "      <th></th>\n",
       "      <th>text</th>\n",
       "      <th>episode_name</th>\n",
       "      <th>show_names</th>\n",
       "      <th>season_number</th>\n",
       "      <th>episode_number</th>\n",
       "      <th>show_year</th>\n",
       "    </tr>\n",
       "  </thead>\n",
       "  <tbody>\n",
       "    <tr>\n",
       "      <th>0</th>\n",
       "      <td>Can it be the breeze that fills the trees  Wit...</td>\n",
       "      <td>The Nicked Knockwurst</td>\n",
       "      <td>'Allo 'Allo!</td>\n",
       "      <td>3</td>\n",
       "      <td>1.0</td>\n",
       "      <td>1982</td>\n",
       "    </tr>\n",
       "    <tr>\n",
       "      <th>1</th>\n",
       "      <td>Madame Peyet is in the family way.  She is ple...</td>\n",
       "      <td>Gruber Does Some Mincing</td>\n",
       "      <td>'Allo 'Allo!</td>\n",
       "      <td>3</td>\n",
       "      <td>2.0</td>\n",
       "      <td>1982</td>\n",
       "    </tr>\n",
       "    <tr>\n",
       "      <th>2</th>\n",
       "      <td>Ooar!  Ooh!  Are you by any chance curious to ...</td>\n",
       "      <td>The Sausage in the Wardrobe</td>\n",
       "      <td>'Allo 'Allo!</td>\n",
       "      <td>3</td>\n",
       "      <td>3.0</td>\n",
       "      <td>1982</td>\n",
       "    </tr>\n",
       "    <tr>\n",
       "      <th>3</th>\n",
       "      <td>It is possible that the more curious among you...</td>\n",
       "      <td>The Flight of Fancy</td>\n",
       "      <td>'Allo 'Allo!</td>\n",
       "      <td>3</td>\n",
       "      <td>4.0</td>\n",
       "      <td>1982</td>\n",
       "    </tr>\n",
       "    <tr>\n",
       "      <th>4</th>\n",
       "      <td>Oh. Do you by any chance wish to know  how I, ...</td>\n",
       "      <td>Pretty Maids All in a Row</td>\n",
       "      <td>'Allo 'Allo!</td>\n",
       "      <td>3</td>\n",
       "      <td>5.0</td>\n",
       "      <td>1982</td>\n",
       "    </tr>\n",
       "  </tbody>\n",
       "</table>\n",
       "</div>"
      ],
      "text/plain": [
       "                                                text  \\\n",
       "0  Can it be the breeze that fills the trees  Wit...   \n",
       "1  Madame Peyet is in the family way.  She is ple...   \n",
       "2  Ooar!  Ooh!  Are you by any chance curious to ...   \n",
       "3  It is possible that the more curious among you...   \n",
       "4  Oh. Do you by any chance wish to know  how I, ...   \n",
       "\n",
       "                  episode_name    show_names  season_number  episode_number  \\\n",
       "0        The Nicked Knockwurst  'Allo 'Allo!              3             1.0   \n",
       "1     Gruber Does Some Mincing  'Allo 'Allo!              3             2.0   \n",
       "2  The Sausage in the Wardrobe  'Allo 'Allo!              3             3.0   \n",
       "3          The Flight of Fancy  'Allo 'Allo!              3             4.0   \n",
       "4    Pretty Maids All in a Row  'Allo 'Allo!              3             5.0   \n",
       "\n",
       "   show_year  \n",
       "0       1982  \n",
       "1       1982  \n",
       "2       1982  \n",
       "3       1982  \n",
       "4       1982  "
      ]
     },
     "execution_count": 2,
     "metadata": {},
     "output_type": "execute_result"
    }
   ],
   "source": [
    "#read in episode data\n",
    "episodes = pd.read_csv(\"../data/episodes_cleaned.csv\")\n",
    "episodes.head()"
   ]
  },
  {
   "cell_type": "code",
   "execution_count": 3,
   "metadata": {},
   "outputs": [
    {
     "data": {
      "text/plain": [
       "(117416, 6)"
      ]
     },
     "execution_count": 3,
     "metadata": {},
     "output_type": "execute_result"
    }
   ],
   "source": [
    "episodes.shape"
   ]
  },
  {
   "cell_type": "code",
   "execution_count": 7,
   "metadata": {},
   "outputs": [],
   "source": [
    "sia = SentimentIntensityAnalyzer()\n",
    "def episode_sentiment(text):\n",
    "    return sia.polarity_scores(text)[\"compound\"]\n",
    "\n",
    "episodes[\"composite_sentiment\"] = episodes[\"text\"].apply(episode_sentiment)"
   ]
  },
  {
   "cell_type": "code",
   "execution_count": 8,
   "metadata": {},
   "outputs": [
    {
     "data": {
      "text/html": [
       "<div>\n",
       "<style scoped>\n",
       "    .dataframe tbody tr th:only-of-type {\n",
       "        vertical-align: middle;\n",
       "    }\n",
       "\n",
       "    .dataframe tbody tr th {\n",
       "        vertical-align: top;\n",
       "    }\n",
       "\n",
       "    .dataframe thead th {\n",
       "        text-align: right;\n",
       "    }\n",
       "</style>\n",
       "<table border=\"1\" class=\"dataframe\">\n",
       "  <thead>\n",
       "    <tr style=\"text-align: right;\">\n",
       "      <th></th>\n",
       "      <th>text</th>\n",
       "      <th>episode_name</th>\n",
       "      <th>show_names</th>\n",
       "      <th>season_number</th>\n",
       "      <th>episode_number</th>\n",
       "      <th>show_year</th>\n",
       "      <th>composite_sentiment</th>\n",
       "    </tr>\n",
       "  </thead>\n",
       "  <tbody>\n",
       "    <tr>\n",
       "      <th>0</th>\n",
       "      <td>Can it be the breeze that fills the trees  Wit...</td>\n",
       "      <td>The Nicked Knockwurst</td>\n",
       "      <td>'Allo 'Allo!</td>\n",
       "      <td>3</td>\n",
       "      <td>1.0</td>\n",
       "      <td>1982</td>\n",
       "      <td>0.9997</td>\n",
       "    </tr>\n",
       "    <tr>\n",
       "      <th>1</th>\n",
       "      <td>Madame Peyet is in the family way.  She is ple...</td>\n",
       "      <td>Gruber Does Some Mincing</td>\n",
       "      <td>'Allo 'Allo!</td>\n",
       "      <td>3</td>\n",
       "      <td>2.0</td>\n",
       "      <td>1982</td>\n",
       "      <td>0.9997</td>\n",
       "    </tr>\n",
       "    <tr>\n",
       "      <th>2</th>\n",
       "      <td>Ooar!  Ooh!  Are you by any chance curious to ...</td>\n",
       "      <td>The Sausage in the Wardrobe</td>\n",
       "      <td>'Allo 'Allo!</td>\n",
       "      <td>3</td>\n",
       "      <td>3.0</td>\n",
       "      <td>1982</td>\n",
       "      <td>0.9911</td>\n",
       "    </tr>\n",
       "    <tr>\n",
       "      <th>3</th>\n",
       "      <td>It is possible that the more curious among you...</td>\n",
       "      <td>The Flight of Fancy</td>\n",
       "      <td>'Allo 'Allo!</td>\n",
       "      <td>3</td>\n",
       "      <td>4.0</td>\n",
       "      <td>1982</td>\n",
       "      <td>0.9996</td>\n",
       "    </tr>\n",
       "    <tr>\n",
       "      <th>4</th>\n",
       "      <td>Oh. Do you by any chance wish to know  how I, ...</td>\n",
       "      <td>Pretty Maids All in a Row</td>\n",
       "      <td>'Allo 'Allo!</td>\n",
       "      <td>3</td>\n",
       "      <td>5.0</td>\n",
       "      <td>1982</td>\n",
       "      <td>0.9995</td>\n",
       "    </tr>\n",
       "  </tbody>\n",
       "</table>\n",
       "</div>"
      ],
      "text/plain": [
       "                                                text  \\\n",
       "0  Can it be the breeze that fills the trees  Wit...   \n",
       "1  Madame Peyet is in the family way.  She is ple...   \n",
       "2  Ooar!  Ooh!  Are you by any chance curious to ...   \n",
       "3  It is possible that the more curious among you...   \n",
       "4  Oh. Do you by any chance wish to know  how I, ...   \n",
       "\n",
       "                  episode_name    show_names  season_number  episode_number  \\\n",
       "0        The Nicked Knockwurst  'Allo 'Allo!              3             1.0   \n",
       "1     Gruber Does Some Mincing  'Allo 'Allo!              3             2.0   \n",
       "2  The Sausage in the Wardrobe  'Allo 'Allo!              3             3.0   \n",
       "3          The Flight of Fancy  'Allo 'Allo!              3             4.0   \n",
       "4    Pretty Maids All in a Row  'Allo 'Allo!              3             5.0   \n",
       "\n",
       "   show_year  composite_sentiment  \n",
       "0       1982               0.9997  \n",
       "1       1982               0.9997  \n",
       "2       1982               0.9911  \n",
       "3       1982               0.9996  \n",
       "4       1982               0.9995  "
      ]
     },
     "execution_count": 8,
     "metadata": {},
     "output_type": "execute_result"
    }
   ],
   "source": [
    "episodes.head()"
   ]
  },
  {
   "cell_type": "code",
   "execution_count": 12,
   "metadata": {},
   "outputs": [
    {
     "data": {
      "image/png": "[encoded data removed]",
      "text/plain": [
       "<Figure size 432x288 with 1 Axes>"
      ]
     },
     "metadata": {
      "needs_background": "light"
     },
     "output_type": "display_data"
    }
   ],
   "source": [
    "plt.hist(episodes[\"composite_sentiment\"], bins=100);"
   ]
  },
  {
   "cell_type": "code",
   "execution_count": 13,
   "metadata": {},
   "outputs": [],
   "source": [
    "episodes.to_csv(\"../data/episodes_with_sentiment.csv\", index=False)"
   ]
  },
  {
   "cell_type": "code",
   "execution_count": 14,
   "metadata": {},
   "outputs": [
    {
     "data": {
      "text/plain": [
       "18227"
      ]
     },
     "execution_count": 14,
     "metadata": {},
     "output_type": "execute_result"
    }
   ],
   "source": [
    "len(episodes[episodes[\"composite_sentiment\"] < -.75][\"composite_sentiment\"])"
   ]
  },
  {
   "cell_type": "code",
   "execution_count": 15,
   "metadata": {},
   "outputs": [
    {
     "data": {
      "text/plain": [
       "97847"
      ]
     },
     "execution_count": 15,
     "metadata": {},
     "output_type": "execute_result"
    }
   ],
   "source": [
    "len(episodes[episodes[\"composite_sentiment\"] > .75][\"composite_sentiment\"])"
   ]
  },
  {
   "cell_type": "code",
   "execution_count": 16,
   "metadata": {},
   "outputs": [
    {
     "data": {
      "text/plain": [
       "1342"
      ]
     },
     "execution_count": 16,
     "metadata": {},
     "output_type": "execute_result"
    }
   ],
   "source": [
    "len(episodes[(episodes[\"composite_sentiment\"] > -.75) & (episodes[\"composite_sentiment\"] < .75)][\"composite_sentiment\"])"
   ]
  },
  {
   "cell_type": "code",
   "execution_count": 24,
   "metadata": {},
   "outputs": [
    {
     "data": {
      "image/png": "[encoded data removed]",
      "text/plain": [
       "<Figure size 432x288 with 1 Axes>"
      ]
     },
     "metadata": {
      "needs_background": "light"
     },
     "output_type": "display_data"
    }
   ],
   "source": [
    "negative = episodes[episodes[\"composite_sentiment\"] < -.75][\"composite_sentiment\"]\n",
    "plt.hist(negative, bins=50);"
   ]
  },
  {
   "cell_type": "code",
   "execution_count": 23,
   "metadata": {},
   "outputs": [
    {
     "data": {
      "image/png": "[encoded data removed]",
      "text/plain": [
       "<Figure size 432x288 with 1 Axes>"
      ]
     },
     "metadata": {
      "needs_background": "light"
     },
     "output_type": "display_data"
    }
   ],
   "source": [
    "middle = episodes[(episodes[\"composite_sentiment\"] > -.75) & (episodes[\"composite_sentiment\"] < .75)][\"composite_sentiment\"]\n",
    "plt.hist(middle, bins=50);"
   ]
  },
  {
   "cell_type": "code",
   "execution_count": 22,
   "metadata": {},
   "outputs": [
    {
     "data": {
      "image/png": "[encoded data removed]",
      "text/plain": [
       "<Figure size 432x288 with 1 Axes>"
      ]
     },
     "metadata": {
      "needs_background": "light"
     },
     "output_type": "display_data"
    }
   ],
   "source": [
    "positive = episodes[episodes[\"composite_sentiment\"] > .75][\"composite_sentiment\"]\n",
    "plt.hist(positive, bins=50);"
   ]
  },
  {
   "cell_type": "code",
   "execution_count": null,
   "metadata": {},
   "outputs": [],
   "source": []
  }
 ],
 "metadata": {
  "kernelspec": {
   "display_name": "Python 3",
   "language": "python",
   "name": "python3"
  },
  "language_info": {
   "codemirror_mode": {
    "name": "ipython",
    "version": 3
   },
   "file_extension": ".py",
   "mimetype": "text/x-python",
   "name": "python",
   "nbconvert_exporter": "python",
   "pygments_lexer": "ipython3",
   "version": "3.7.3"
  }
 },
 "nbformat": 4,
 "nbformat_minor": 2
}
